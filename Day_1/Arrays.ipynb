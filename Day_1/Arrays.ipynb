{
 "cells": [
  {
   "cell_type": "markdown",
   "metadata": {},
   "source": [
    "### Single and multi Dimention Arrays in Scala"
   ]
  },
  {
   "cell_type": "code",
   "execution_count": 2,
   "metadata": {},
   "outputs": [
    {
     "name": "stdout",
     "output_type": "stream",
     "text": [
      "1\n",
      "2\n",
      "3\n",
      "4\n",
      "5\n"
     ]
    },
    {
     "data": {
      "text/plain": [
       "\u001b[36marr\u001b[39m: \u001b[32mArray\u001b[39m[\u001b[32mInt\u001b[39m] = \u001b[33mArray\u001b[39m(\u001b[32m1\u001b[39m, \u001b[32m2\u001b[39m, \u001b[32m3\u001b[39m, \u001b[32m4\u001b[39m, \u001b[32m5\u001b[39m)"
      ]
     },
     "execution_count": 2,
     "metadata": {},
     "output_type": "execute_result"
    }
   ],
   "source": [
    "var arr :Array[Int]= Array(1,2,3,4,5);\n",
    "\n",
    "for(x <- arr){\n",
    "    println(x);\n",
    "}"
   ]
  },
  {
   "cell_type": "code",
   "execution_count": 4,
   "metadata": {},
   "outputs": [
    {
     "name": "stdout",
     "output_type": "stream",
     "text": [
      "1\n",
      "2\n",
      "3\n",
      "4\n",
      "5\n",
      "6\n",
      "7\n",
      "8\n",
      "9\n"
     ]
    },
    {
     "data": {
      "text/plain": [
       "\u001b[36marr\u001b[39m: \u001b[32mArray\u001b[39m[\u001b[32mArray\u001b[39m[\u001b[32mInt\u001b[39m]] = \u001b[33mArray\u001b[39m(\u001b[33mArray\u001b[39m(\u001b[32m1\u001b[39m, \u001b[32m2\u001b[39m, \u001b[32m3\u001b[39m), \u001b[33mArray\u001b[39m(\u001b[32m4\u001b[39m, \u001b[32m5\u001b[39m, \u001b[32m6\u001b[39m), \u001b[33mArray\u001b[39m(\u001b[32m7\u001b[39m, \u001b[32m8\u001b[39m, \u001b[32m9\u001b[39m))"
      ]
     },
     "execution_count": 4,
     "metadata": {},
     "output_type": "execute_result"
    }
   ],
   "source": [
    "var arr : Array[Array[Int]] = Array(Array(1,2,3),Array(4,5,6),Array(7,8,9));\n",
    "\n",
    "for(x<-arr){\n",
    "    for(y <- x){\n",
    "        println(y);\n",
    "    }\n",
    "}"
   ]
  },
  {
   "cell_type": "code",
   "execution_count": 5,
   "metadata": {},
   "outputs": [
    {
     "name": "stdout",
     "output_type": "stream",
     "text": [
      "0 1 2 \n",
      "1 2 3 \n",
      "2 3 4 \n"
     ]
    },
    {
     "data": {
      "text/plain": [
       "\u001b[36marr\u001b[39m: \u001b[32mArray\u001b[39m[\u001b[32mArray\u001b[39m[\u001b[32mInt\u001b[39m]] = \u001b[33mArray\u001b[39m(\u001b[33mArray\u001b[39m(\u001b[32m0\u001b[39m, \u001b[32m1\u001b[39m, \u001b[32m2\u001b[39m), \u001b[33mArray\u001b[39m(\u001b[32m1\u001b[39m, \u001b[32m2\u001b[39m, \u001b[32m3\u001b[39m), \u001b[33mArray\u001b[39m(\u001b[32m2\u001b[39m, \u001b[32m3\u001b[39m, \u001b[32m4\u001b[39m))"
      ]
     },
     "execution_count": 5,
     "metadata": {},
     "output_type": "execute_result"
    }
   ],
   "source": [
    "// Creating a two-dimensional array\n",
    "val arr: Array[Array[Int]] = Array.ofDim[Int](3, 3)\n",
    "\n",
    "for (i <- 0 until 3) {\n",
    "  for (j <- 0 until 3) {\n",
    "    arr(i)(j) = i + j\n",
    "  }\n",
    "}\n",
    "\n",
    "for (row <- arr) {\n",
    "  for (elem <- row) {\n",
    "    print(s\"$elem \")\n",
    "  }\n",
    "  println()\n",
    "}"
   ]
  }
 ],
 "metadata": {
  "kernelspec": {
   "display_name": "Scala",
   "language": "scala",
   "name": "scala"
  },
  "language_info": {
   "codemirror_mode": "text/x-scala",
   "file_extension": ".sc",
   "mimetype": "text/x-scala",
   "name": "scala",
   "nbconvert_exporter": "script",
   "version": "2.13.14"
  }
 },
 "nbformat": 4,
 "nbformat_minor": 2
}
