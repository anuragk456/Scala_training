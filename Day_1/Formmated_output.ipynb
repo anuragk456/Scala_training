{
 "cells": [
  {
   "cell_type": "markdown",
   "metadata": {},
   "source": [
    "## 1. Formatted Output"
   ]
  },
  {
   "cell_type": "markdown",
   "metadata": {},
   "source": [
    "####                                                    print\n",
    "* print is the simplest method for displaying output in Scala. It just prints anything you pass it, one after the other, in the same line.\n"
   ]
  },
  {
   "cell_type": "code",
   "execution_count": 1,
   "metadata": {},
   "outputs": [
    {
     "name": "stdout",
     "output_type": "stream",
     "text": [
      "3035"
     ]
    },
    {
     "data": {
      "text/plain": [
       "\u001b[36ma\u001b[39m: \u001b[32mInteger\u001b[39m = \u001b[32m30\u001b[39m\n",
       "\u001b[36mb\u001b[39m: \u001b[32mInteger\u001b[39m = \u001b[32m35\u001b[39m"
      ]
     },
     "execution_count": 1,
     "metadata": {},
     "output_type": "execute_result"
    }
   ],
   "source": [
    "val a: Integer = 30;\n",
    "print(a);\n",
    "val b: Integer = 35;\n",
    "print(b);\n"
   ]
  },
  {
   "cell_type": "markdown",
   "metadata": {},
   "source": [
    "\n",
    "####                                                    println\n",
    "* println is used if you want to display each specific output on separate lines. With each println statement, the output is automatically displayed on the next line.\n"
   ]
  },
  {
   "cell_type": "code",
   "execution_count": 2,
   "metadata": {},
   "outputs": [
    {
     "name": "stdout",
     "output_type": "stream",
     "text": [
      "30\n",
      "35\n"
     ]
    },
    {
     "data": {
      "text/plain": [
       "\u001b[36ma\u001b[39m: \u001b[32mInteger\u001b[39m = \u001b[32m30\u001b[39m\n",
       "\u001b[36mb\u001b[39m: \u001b[32mInteger\u001b[39m = \u001b[32m35\u001b[39m"
      ]
     },
     "execution_count": 2,
     "metadata": {},
     "output_type": "execute_result"
    }
   ],
   "source": [
    "val a: Integer = 30;\n",
    "println(a);\n",
    "val b: Integer = 35;\n",
    "println(b);"
   ]
  },
  {
   "cell_type": "markdown",
   "metadata": {},
   "source": [
    "\n",
    "####                                                    printf\n",
    "* printf is used for formatting text. You can use it to append different data types to your text that is to be printed.\n"
   ]
  },
  {
   "cell_type": "code",
   "execution_count": 3,
   "metadata": {},
   "outputs": [
    {
     "name": "stdout",
     "output_type": "stream",
     "text": [
      "30\n",
      "35\n"
     ]
    },
    {
     "data": {
      "text/plain": [
       "\u001b[36ma\u001b[39m: \u001b[32mInteger\u001b[39m = \u001b[32m30\u001b[39m\n",
       "\u001b[36mb\u001b[39m: \u001b[32mInteger\u001b[39m = \u001b[32m35\u001b[39m"
      ]
     },
     "execution_count": 3,
     "metadata": {},
     "output_type": "execute_result"
    }
   ],
   "source": [
    "val a: Integer = 30;\n",
    "printf(\"%d\\n\", a)\n",
    "val b: Integer = 35;\n",
    "printf(\"%d\\n\",b);"
   ]
  },
  {
   "cell_type": "code",
   "execution_count": 3,
   "metadata": {},
   "outputs": [
    {
     "name": "stdout",
     "output_type": "stream",
     "text": [
      "My name is Anurag Kurmi and I am 30 years old.\n",
      "In 5 years, I will be 35.\n",
      "This is a raw string: \\nNew line will not be processed.\n"
     ]
    },
    {
     "data": {
      "text/plain": [
       "\u001b[36mname\u001b[39m: \u001b[32mString\u001b[39m = \u001b[32m\"Anurag Kurmi\"\u001b[39m\n",
       "\u001b[36mage\u001b[39m: \u001b[32mInt\u001b[39m = \u001b[32m30\u001b[39m"
      ]
     },
     "execution_count": 3,
     "metadata": {},
     "output_type": "execute_result"
    }
   ],
   "source": [
    "val name = \"Anurag Kurmi\";\n",
    "val age = 30;\n",
    "\n",
    "println(s\"My name is $name and I am $age years old.\");\n",
    "println(s\"In 5 years, I will be ${age + 5}.\");\n",
    "println(raw\"This is a raw string: \\nNew line will not be processed.\");\n"
   ]
  }
 ],
 "metadata": {
  "kernelspec": {
   "display_name": "Scala",
   "language": "scala",
   "name": "scala"
  },
  "language_info": {
   "codemirror_mode": "text/x-scala",
   "file_extension": ".sc",
   "mimetype": "text/x-scala",
   "name": "scala",
   "nbconvert_exporter": "script",
   "version": "2.13.14"
  }
 },
 "nbformat": 4,
 "nbformat_minor": 2
}
