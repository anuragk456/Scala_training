{
 "cells": [
  {
   "cell_type": "markdown",
   "metadata": {},
   "source": [
    "### Access Specifiers in scala\n",
    "* Public \n",
    "* Private\n",
    "* Protacted \n",
    "* Private to a class\n",
    "* Package Private\n",
    "* Final"
   ]
  },
  {
   "cell_type": "code",
   "execution_count": 1,
   "metadata": {},
   "outputs": [
    {
     "name": "stdout",
     "output_type": "stream",
     "text": [
      "I am public class\n"
     ]
    },
    {
     "data": {
      "text/plain": [
       "defined \u001b[32mclass\u001b[39m \u001b[36mABC\u001b[39m\n",
       "\u001b[36mx\u001b[39m: \u001b[32mABC\u001b[39m = ammonite.$sess.cmd1$Helper$ABC@4f5ee2b"
      ]
     },
     "execution_count": 1,
     "metadata": {},
     "output_type": "execute_result"
    }
   ],
   "source": [
    "class ABC {\n",
    "  def show(): String = \"I am public class\";\n",
    "}\n",
    "\n",
    "val x = new ABC();\n",
    "println(x.show());\n"
   ]
  },
  {
   "cell_type": "code",
   "execution_count": 2,
   "metadata": {},
   "outputs": [
    {
     "name": "stderr",
     "output_type": "stream",
     "text": [
      "cmd2.sc:8: method secret in class ABC cannot be accessed as a member of Helper.this.ABC from class Helper in class cmd2\n",
      "val res2_2 = println(x.secret());\n",
      "                       ^\n",
      "Compilation Failed"
     ]
    }
   ],
   "source": [
    "class ABC {\n",
    "  private def secret(): String = \"I am private!\";\n",
    "\n",
    "  def reveal(): String = secret();\n",
    "}\n",
    "\n",
    "val x = new ABC();\n",
    "println(x.secret());\n",
    "println(x.reveal());\n"
   ]
  },
  {
   "cell_type": "code",
   "execution_count": 3,
   "metadata": {},
   "outputs": [
    {
     "name": "stderr",
     "output_type": "stream",
     "text": [
      "cmd3.sc:11: method X in class XYZ cannot be accessed as a member of Helper.this.A from class Helper in class cmd3\n",
      " Access to protected method X not permitted because\n",
      " enclosing class Helper in class cmd3 is not a subclass of\n",
      " class XYZ in class Helper where target is defined\n",
      "val res3_4 = println(a.X())\n",
      "                       ^\n",
      "Compilation Failed"
     ]
    }
   ],
   "source": [
    "class XYZ {\n",
    "  protected def X(): String = \"I am protected!\";\n",
    "}\n",
    "\n",
    "class A extends XYZ {\n",
    "  def show(): String = X();\n",
    "}\n",
    "\n",
    "val a = new A();\n",
    "println(a.show());\n",
    "println(a.X());\n"
   ]
  },
  {
   "cell_type": "code",
   "execution_count": 3,
   "metadata": {},
   "outputs": [
    {
     "name": "stderr",
     "output_type": "stream",
     "text": [
      "cmd3.sc:11: value baseValue in class Base cannot be accessed as a member of Helper.this.Base from class Helper in class cmd3\n",
      "val res3_3 = println(base.baseValue) \n",
      "                          ^\n",
      "Compilation Failed"
     ]
    }
   ],
   "source": [
    "class Base {\n",
    "  private val baseValue = 10;\n",
    "  def getBaseValue: Int = baseValue\n",
    "}\n",
    "\n",
    "class Derived extends Base {\n",
    "  \n",
    "}\n",
    "\n",
    "val base = new Base()\n",
    "println(base.baseValue)\n"
   ]
  },
  {
   "cell_type": "code",
   "execution_count": 4,
   "metadata": {},
   "outputs": [
    {
     "name": "stderr",
     "output_type": "stream",
     "text": [
      "cmd4.sc:5: illegal inheritance from final class ABC\n",
      "class SubClass extends ABC;\n",
      "                       ^\n",
      "Compilation Failed"
     ]
    }
   ],
   "source": [
    "final class ABC {\n",
    "  def a(): String = \"I am final!\"\n",
    "}\n",
    "\n",
    "class SubClass extends ABC;"
   ]
  }
 ],
 "metadata": {
  "kernelspec": {
   "display_name": "Scala",
   "language": "scala",
   "name": "scala"
  },
  "language_info": {
   "codemirror_mode": "text/x-scala",
   "file_extension": ".sc",
   "mimetype": "text/x-scala",
   "name": "scala",
   "nbconvert_exporter": "script",
   "version": "2.13.14"
  }
 },
 "nbformat": 4,
 "nbformat_minor": 2
}
