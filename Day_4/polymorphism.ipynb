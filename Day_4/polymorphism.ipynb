{
 "cells": [
  {
   "cell_type": "markdown",
   "metadata": {},
   "source": [
    "### Polymorphism in Scala"
   ]
  },
  {
   "cell_type": "code",
   "execution_count": 1,
   "metadata": {},
   "outputs": [
    {
     "name": "stdout",
     "output_type": "stream",
     "text": [
      "15\n",
      "30\n",
      "16.0\n"
     ]
    },
    {
     "data": {
      "text/plain": [
       "defined \u001b[32mclass\u001b[39m \u001b[36mABC\u001b[39m\n",
       "\u001b[36ma\u001b[39m: \u001b[32mABC\u001b[39m = ammonite.$sess.cmd1$Helper$ABC@66acbb76"
      ]
     },
     "execution_count": 1,
     "metadata": {},
     "output_type": "execute_result"
    }
   ],
   "source": [
    "class ABC {\n",
    "  def add(x: Int, y: Int): Int = x + y;\n",
    "  def add(x: Int, y: Int, z: Int): Int = x + y + z;\n",
    "  def add(x: Double, y: Double): Double = x + y;\n",
    "}\n",
    "\n",
    "val a = new ABC()\n",
    "println(a.add(5, 10))     \n",
    "println(a.add(5, 10, 15)) \n",
    "println(a.add(5.5, 10.5)) \n"
   ]
  },
  {
   "cell_type": "code",
   "execution_count": 2,
   "metadata": {},
   "outputs": [
    {
     "name": "stdout",
     "output_type": "stream",
     "text": [
      "running in B Class\n",
      "run in Class C\n"
     ]
    },
    {
     "data": {
      "text/plain": [
       "defined \u001b[32mclass\u001b[39m \u001b[36mABC\u001b[39m\n",
       "defined \u001b[32mclass\u001b[39m \u001b[36mB\u001b[39m\n",
       "defined \u001b[32mclass\u001b[39m \u001b[36mC\u001b[39m\n",
       "defined \u001b[32mfunction\u001b[39m \u001b[36mmainMethod\u001b[39m\n",
       "\u001b[36mb\u001b[39m: \u001b[32mB\u001b[39m = ammonite.$sess.cmd2$Helper$B@16031427\n",
       "\u001b[36mc\u001b[39m: \u001b[32mC\u001b[39m = ammonite.$sess.cmd2$Helper$C@7e57bdbf"
      ]
     },
     "execution_count": 2,
     "metadata": {},
     "output_type": "execute_result"
    }
   ],
   "source": [
    "class ABC {\n",
    "  def run(): String = \"running in class ABC\";\n",
    "}\n",
    "\n",
    "class B extends ABC {\n",
    "  override def run(): String = \"running in B Class\";\n",
    "}\n",
    "\n",
    "class C extends ABC {\n",
    "  override def run(): String = \"run in Class C\"\n",
    "}\n",
    "\n",
    "def mainMethod(a: ABC): Unit = {\n",
    "  println(a.run());\n",
    "}\n",
    "\n",
    "val b = new B();\n",
    "val c = new C();\n",
    "\n",
    "mainMethod(b);\n",
    "mainMethod(c);\n"
   ]
  },
  {
   "cell_type": "code",
   "execution_count": 3,
   "metadata": {},
   "outputs": [
    {
     "name": "stdout",
     "output_type": "stream",
     "text": [
      "Total Area: 27.560000000000002\n"
     ]
    },
    {
     "data": {
      "text/plain": [
       "defined \u001b[32mclass\u001b[39m \u001b[36mShape\u001b[39m\n",
       "defined \u001b[32mclass\u001b[39m \u001b[36mRectangle\u001b[39m\n",
       "defined \u001b[32mclass\u001b[39m \u001b[36mCircle\u001b[39m\n",
       "\u001b[36mshapes\u001b[39m: \u001b[32mList\u001b[39m[\u001b[32mShape\u001b[39m] = \u001b[33mList\u001b[39m(\n",
       "  ammonite.$sess.cmd3$Helper$Rectangle@2f134ddf,\n",
       "  ammonite.$sess.cmd3$Helper$Circle@2a6468c0\n",
       ")\n",
       "\u001b[36mtotalArea\u001b[39m: \u001b[32mDouble\u001b[39m = \u001b[32m27.560000000000002\u001b[39m"
      ]
     },
     "execution_count": 3,
     "metadata": {},
     "output_type": "execute_result"
    }
   ],
   "source": [
    "abstract class Shape {\n",
    "  def area(): Double\n",
    "}\n",
    "\n",
    "class Rectangle(val width: Double, val height: Double) extends Shape {\n",
    "  override def area(): Double = width * height\n",
    "}\n",
    "\n",
    "class Circle(val radius: Double) extends Shape {\n",
    "  override def area(): Double = 3.14 * radius * radius\n",
    "}\n",
    "\n",
    "val shapes: List[Shape] = List(new Rectangle(5, 3), new Circle(2))\n",
    "\n",
    "val totalArea = shapes.map(_.area()).sum\n",
    "println(s\"Total Area: $totalArea\") \n"
   ]
  }
 ],
 "metadata": {
  "kernelspec": {
   "display_name": "Scala",
   "language": "scala",
   "name": "scala"
  },
  "language_info": {
   "codemirror_mode": "text/x-scala",
   "file_extension": ".sc",
   "mimetype": "text/x-scala",
   "name": "scala",
   "nbconvert_exporter": "script",
   "version": "2.13.14"
  }
 },
 "nbformat": 4,
 "nbformat_minor": 2
}
