{
 "cells": [
  {
   "cell_type": "markdown",
   "metadata": {},
   "source": [
    "###                             Conditional Statements"
   ]
  },
  {
   "cell_type": "markdown",
   "metadata": {},
   "source": [
    "##### The conditional statements of Scala are:\n",
    "* if\n",
    "* if-else\n",
    "* Nested if-else\n",
    "* if-else if ladder"
   ]
  },
  {
   "cell_type": "code",
   "execution_count": 2,
   "metadata": {},
   "outputs": [
    {
     "name": "stdout",
     "output_type": "stream",
     "text": [
      " It is greater then 20\n"
     ]
    },
    {
     "data": {
      "text/plain": [
       "\u001b[36ma\u001b[39m: \u001b[32mInt\u001b[39m = \u001b[32m25\u001b[39m"
      ]
     },
     "execution_count": 2,
     "metadata": {},
     "output_type": "execute_result"
    }
   ],
   "source": [
    "// if\n",
    "val a : Int = 25;\n",
    "\n",
    "if(a>20){\n",
    "    println(\" It is greater then 20\");\n",
    "}"
   ]
  },
  {
   "cell_type": "code",
   "execution_count": 4,
   "metadata": {},
   "outputs": [
    {
     "name": "stdout",
     "output_type": "stream",
     "text": [
      " It is smaller then 20 "
     ]
    },
    {
     "data": {
      "text/plain": [
       "\u001b[36ma\u001b[39m: \u001b[32mInt\u001b[39m = \u001b[32m25\u001b[39m"
      ]
     },
     "execution_count": 4,
     "metadata": {},
     "output_type": "execute_result"
    }
   ],
   "source": [
    "// if else\n",
    "val a : Int = 25;\n",
    "\n",
    "if(a<20){\n",
    "    println(\" It is greater then 20\");\n",
    "}else{\n",
    "    print(\" It is smaller then 20 \");\n",
    "}"
   ]
  },
  {
   "cell_type": "code",
   "execution_count": 6,
   "metadata": {},
   "outputs": [
    {
     "name": "stdout",
     "output_type": "stream",
     "text": [
      "It is smaller then 30 and greater then 20\n"
     ]
    },
    {
     "data": {
      "text/plain": [
       "\u001b[36ma\u001b[39m: \u001b[32mInt\u001b[39m = \u001b[32m25\u001b[39m"
      ]
     },
     "execution_count": 6,
     "metadata": {},
     "output_type": "execute_result"
    }
   ],
   "source": [
    "// Nested if else \n",
    "val a: Int = 25;\n",
    "\n",
    "if(a>20){\n",
    "    if(a<30){\n",
    "        println(\"It is smaller then 30 and greater then 20\");\n",
    "    }else{\n",
    "        println(\"It is greater then 30\");\n",
    "    }\n",
    "}else{\n",
    "    println(\"It is smaller 20\");\n",
    "}"
   ]
  },
  {
   "cell_type": "code",
   "execution_count": 5,
   "metadata": {},
   "outputs": [
    {
     "name": "stdout",
     "output_type": "stream",
     "text": [
      " It is greater then 20 but less then 30\n"
     ]
    },
    {
     "data": {
      "text/plain": [
       "\u001b[36ma\u001b[39m: \u001b[32mInt\u001b[39m = \u001b[32m25\u001b[39m"
      ]
     },
     "execution_count": 5,
     "metadata": {},
     "output_type": "execute_result"
    }
   ],
   "source": [
    "// if-else if Ladder\n",
    "val a : Int = 25;\n",
    "\n",
    "if(a<20){\n",
    "    println(\" It is lesser then 20\");\n",
    "}else if(a>20 && a<30){\n",
    "    println(\" It is greater then 20 but less then 30\");\n",
    "}else {\n",
    "    println(\"It is greater then 30\");\n",
    "}"
   ]
  },
  {
   "cell_type": "markdown",
   "metadata": {},
   "source": [
    "###                 JUMP STATEMENT\n",
    "\n",
    "* return: Used to exit methods and return values.\n",
    "* break: Mimicked using scala.util.control.Breaks.\n",
    "* continue: Achieved through conditional checks in loops.\n"
   ]
  },
  {
   "cell_type": "code",
   "execution_count": 14,
   "metadata": {},
   "outputs": [
    {
     "name": "stdout",
     "output_type": "stream",
     "text": [
      "0\n",
      "1\n",
      "2\n",
      "4\n",
      "5\n"
     ]
    },
    {
     "data": {
      "text/plain": [
       "\u001b[36mi\u001b[39m: \u001b[32mInt\u001b[39m = \u001b[32m5\u001b[39m"
      ]
     },
     "execution_count": 14,
     "metadata": {},
     "output_type": "execute_result"
    }
   ],
   "source": [
    "// continue statment \n",
    "val i : Int = 5;\n",
    "for(y <- 0 to i){\n",
    "    if(y==3){\n",
    "        \n",
    "    }else{\n",
    "        println(y);\n",
    "    }   \n",
    "}"
   ]
  },
  {
   "cell_type": "code",
   "execution_count": 15,
   "metadata": {},
   "outputs": [
    {
     "name": "stdout",
     "output_type": "stream",
     "text": [
      "0\n",
      "1\n",
      "2\n"
     ]
    },
    {
     "data": {
      "text/plain": [
       "\u001b[36mi\u001b[39m: \u001b[32mInt\u001b[39m = \u001b[32m5\u001b[39m"
      ]
     },
     "execution_count": 15,
     "metadata": {},
     "output_type": "execute_result"
    }
   ],
   "source": [
    "// Break statement\n",
    "val i: Int = 5\n",
    "breakable {\n",
    "  for (y <- 0 to i) {\n",
    "    if (y == 3) {\n",
    "      break() \n",
    "    } else {\n",
    "      println(y)\n",
    "    }\n",
    "  }\n",
    "}\n"
   ]
  },
  {
   "cell_type": "code",
   "execution_count": 17,
   "metadata": {},
   "outputs": [
    {
     "name": "stdout",
     "output_type": "stream",
     "text": [
      "0\n",
      "1\n",
      "2\n"
     ]
    },
    {
     "data": {
      "text/plain": [
       "defined \u001b[32mfunction\u001b[39m \u001b[36mprintNumbers\u001b[39m"
      ]
     },
     "execution_count": 17,
     "metadata": {},
     "output_type": "execute_result"
    }
   ],
   "source": [
    "// return statement \n",
    "def printNumbers() : Unit = {\n",
    "  val i: Int = 5\n",
    "  for (y <- 0 to i) {\n",
    "    if (y == 3) {\n",
    "      return;\n",
    "    } else {\n",
    "      println(y);\n",
    "    }\n",
    "  }\n",
    "}\n",
    "\n",
    "printNumbers();\n"
   ]
  },
  {
   "cell_type": "code",
   "execution_count": 1,
   "metadata": {},
   "outputs": [
    {
     "name": "stdout",
     "output_type": "stream",
     "text": [
      " It is greater then 20 but less then 30\n"
     ]
    },
    {
     "data": {
      "text/plain": [
       "\u001b[36ma\u001b[39m: \u001b[32mInt\u001b[39m = \u001b[32m25\u001b[39m"
      ]
     },
     "execution_count": 1,
     "metadata": {},
     "output_type": "execute_result"
    }
   ],
   "source": [
    "val a : Int = 25;\n",
    "\n",
    "if(a<20) println(\" It is lesser then 20\") else if (a>20 && a<30) println(\" It is greater then 20 but less then 30\");\n",
    "else println(\"It is greater then 30\");"
   ]
  },
  {
   "cell_type": "code",
   "execution_count": 2,
   "metadata": {},
   "outputs": [
    {
     "name": "stdout",
     "output_type": "stream",
     "text": [
      "It is greater than 20 but less than 30\n"
     ]
    },
    {
     "data": {
      "text/plain": [
       "\u001b[36ma\u001b[39m: \u001b[32mInt\u001b[39m = \u001b[32m25\u001b[39m\n",
       "\u001b[36mmessage\u001b[39m: \u001b[32mString\u001b[39m = \u001b[32m\"It is greater than 20 but less than 30\"\u001b[39m"
      ]
     },
     "execution_count": 2,
     "metadata": {},
     "output_type": "execute_result"
    }
   ],
   "source": [
    "val a: Int = 25\n",
    "\n",
    "val message = \n",
    "  if (a < 20) \"It is lesser than 20\" \n",
    "  else if (a > 20 && a < 30) \"It is greater than 20 but less than 30\" \n",
    "  else \"It is greater than 30\"\n",
    "\n",
    "println(message)\n"
   ]
  }
 ],
 "metadata": {
  "kernelspec": {
   "display_name": "Scala",
   "language": "scala",
   "name": "scala"
  },
  "language_info": {
   "codemirror_mode": "text/x-scala",
   "file_extension": ".sc",
   "mimetype": "text/x-scala",
   "name": "scala",
   "nbconvert_exporter": "script",
   "version": "2.13.14"
  }
 },
 "nbformat": 4,
 "nbformat_minor": 2
}
