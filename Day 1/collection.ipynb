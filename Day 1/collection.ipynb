{
 "cells": [
  {
   "cell_type": "markdown",
   "metadata": {},
   "source": [
    "### Collections in Scala\n",
    "* \tScala Lists : Scala's List[T] is a linked list of type T.\n",
    "*   Scala Sets : A set is a collection of pairwise different elements of the same type.\n",
    "*   Scala Maps : A Map is a collection of key/value pairs. Any value can be retrieved based on its key.\n",
    "*   Scala tuples : Unlike an array or list, a tuple can hold objects with different types.\n",
    "*   Scala Options : Option[T] provides a container for zero or one element of a given type.\n",
    "*   Scala Itrations : An iterator is not a collection, but rather a way to access the elements of a collection one by one."
   ]
  },
  {
   "cell_type": "markdown",
   "metadata": {},
   "source": [
    "##### Scala Lists"
   ]
  },
  {
   "cell_type": "code",
   "execution_count": 8,
   "metadata": {},
   "outputs": [
    {
     "name": "stdout",
     "output_type": "stream",
     "text": [
      "ABC\n",
      "DEF\n",
      "JHI\n",
      "1\n",
      "2\n",
      "3\n",
      "4\n",
      "5\n",
      "1 2 3 \n",
      "4 5 6 \n",
      "7 8 9 \n"
     ]
    },
    {
     "data": {
      "text/plain": [
       "\u001b[36mstr\u001b[39m: \u001b[32mList\u001b[39m[\u001b[32mString\u001b[39m] = \u001b[33mList\u001b[39m(\u001b[32m\"ABC\"\u001b[39m, \u001b[32m\"DEF\"\u001b[39m, \u001b[32m\"JHI\"\u001b[39m)\n",
       "\u001b[36mnum\u001b[39m: \u001b[32mList\u001b[39m[\u001b[32mInt\u001b[39m] = \u001b[33mList\u001b[39m(\u001b[32m1\u001b[39m, \u001b[32m2\u001b[39m, \u001b[32m3\u001b[39m, \u001b[32m4\u001b[39m, \u001b[32m5\u001b[39m)\n",
       "\u001b[36mz\u001b[39m: \u001b[32mList\u001b[39m[\u001b[32mNothing\u001b[39m] = \u001b[33mList\u001b[39m()\n",
       "\u001b[36marr\u001b[39m: \u001b[32mList\u001b[39m[\u001b[32mList\u001b[39m[\u001b[32mInt\u001b[39m]] = \u001b[33mList\u001b[39m(\u001b[33mList\u001b[39m(\u001b[32m1\u001b[39m, \u001b[32m2\u001b[39m, \u001b[32m3\u001b[39m), \u001b[33mList\u001b[39m(\u001b[32m4\u001b[39m, \u001b[32m5\u001b[39m, \u001b[32m6\u001b[39m), \u001b[33mList\u001b[39m(\u001b[32m7\u001b[39m, \u001b[32m8\u001b[39m, \u001b[32m9\u001b[39m))"
      ]
     },
     "execution_count": 8,
     "metadata": {},
     "output_type": "execute_result"
    }
   ],
   "source": [
    "val str : List[String] = List(\"ABC\",\"DEF\",\"JHI\");\n",
    "for(x<-str){\n",
    "    println(x);\n",
    "}\n",
    "\n",
    "val num : List[Int] = List(1,2,3,4,5);\n",
    "for(x<-num){\n",
    "    println(x);\n",
    "}\n",
    "\n",
    "val z : List[Nothing] = List()\n",
    "for(x<-z){\n",
    "    println(x);\n",
    "}\n",
    "\n",
    "\n",
    "val arr: List[List[Int]] = List(List(1, 2, 3), List(4, 5, 6), List(7, 8, 9))\n",
    "\n",
    "for (x <- arr) {\n",
    "  for (y <- x) {\n",
    "    print(s\"$y \")\n",
    "  }\n",
    "  println()\n",
    "}\n"
   ]
  }
 ],
 "metadata": {
  "kernelspec": {
   "display_name": "Scala",
   "language": "scala",
   "name": "scala"
  },
  "language_info": {
   "codemirror_mode": "text/x-scala",
   "file_extension": ".sc",
   "mimetype": "text/x-scala",
   "name": "scala",
   "nbconvert_exporter": "script",
   "version": "2.13.14"
  }
 },
 "nbformat": 4,
 "nbformat_minor": 2
}
