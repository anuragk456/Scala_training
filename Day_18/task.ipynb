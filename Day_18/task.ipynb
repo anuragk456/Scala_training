{
 "cells": [
  {
   "cell_type": "code",
   "execution_count": null,
   "metadata": {},
   "outputs": [],
   "source": [
    "import org.apache.spark.sql.SparkSession\n",
    "import org.apache.spark.sql.types._\n",
    "\n",
    "object JsonToCsvGCS {\n",
    "  def main(args: Array[String]): Unit = {\n",
    "    val spark = SparkSession.builder()\n",
    "      .appName(\"JSON to CSV Conversion\")\n",
    "      .config(\"spark.hadoop.fs.gs.impl\", \"com.google.cloud.hadoop.fs.gcs.GoogleHadoopFileSystem\")\n",
    "      .config(\"spark.hadoop.fs.AbstractFileSystem.gs.impl\", \"com.google.cloud.hadoop.fs.gcs.GoogleHadoopFS\")\n",
    "      .config(\"spark.hadoop.google.cloud.auth.service.account.enable\", \"true\")\n",
    "      .config(\"spark.hadoop.google.cloud.auth.service.account.json.keyfile\", \"/Users/anuragkurmi/Desktop/gcp_key.json\")\n",
    "      .master(\"local[*]\")\n",
    "      .getOrCreate()\n",
    "\n",
    "    import spark.implicits._\n",
    "    val csvData = Seq(\n",
    "      Map(\"id\" -> 1, \"name\" -> \"Alice\", \"age\" -> 30, \"city\" -> \"New York\"),\n",
    "      Map(\"id\" -> 2, \"name\" -> \"Bob\", \"age\" -> 25, \"city\" -> \"Los Angeles\"),\n",
    "      Map(\"id\" -> 3, \"name\" -> \"Charlie\", \"age\" -> 35, \"city\" -> \"Chicago\")\n",
    "    ).map(_.values.toSeq.mkString(\",\"))\n",
    "\n",
    "    val csvDF = spark.createDataset(csvData).toDF(\"csv_row\")\n",
    "\n",
    "    val outputPath = \"gs://jupyter_bucket_anurag/jupyter_notebook/\"\n",
    "    csvDF.write\n",
    "      .option(\"header\", \"false\")\n",
    "      .text(outputPath)\n",
    "\n",
    "    println(s\"CSV successfully written to $outputPath\")\n",
    "    spark.stop()\n",
    "  }\n",
    "}"
   ]
  }
 ],
 "metadata": {
  "kernelspec": {
   "display_name": "Scala",
   "language": "scala",
   "name": "scala"
  },
  "language_info": {
   "name": "scala"
  }
 },
 "nbformat": 4,
 "nbformat_minor": 2
}
