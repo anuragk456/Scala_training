{
 "cells": [
  {
   "cell_type": "markdown",
   "metadata": {},
   "source": [
    "```\n",
    "Convert your PlayJobs\n",
    "and Akka Jobs into containers\n",
    "\n",
    "Ensure you handle the configuration\n",
    "with environment variable including\n",
    "database configuration\n",
    "\n",
    "ensure the whole deployment works on\n",
    "the containers\n",
    "\n",
    "including kafka cluster on the public network\n",
    "```"
   ]
  }
 ],
 "metadata": {
  "language_info": {
   "name": "python"
  }
 },
 "nbformat": 4,
 "nbformat_minor": 2
}
