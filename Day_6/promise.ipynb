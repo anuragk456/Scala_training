{
 "cells": [
  {
   "cell_type": "code",
   "execution_count": null,
   "metadata": {},
   "outputs": [
    {
     "name": "stdout",
     "output_type": "stream",
     "text": [
      "Future completed with value: 42\n"
     ]
    },
    {
     "data": {
      "text/html": [
       "<div class=\"jp-RenderedText\">\n",
       "<pre><code><span style=\"color: rgb(0, 187, 0)\"><span class=\"ansi-green-fg\">import </span></span><span style=\"color: rgb(0, 187, 187)\"><span class=\"ansi-cyan-fg\">scala.concurrent.{Future, Promise}</span></span>\n",
       "<span style=\"color: rgb(0, 187, 0)\"><span class=\"ansi-green-fg\">import </span></span><span style=\"color: rgb(0, 187, 187)\"><span class=\"ansi-cyan-fg\">scala.concurrent.ExecutionContext.Implicits.global</span></span>\n",
       "<span style=\"color: rgb(0, 187, 0)\"><span class=\"ansi-green-fg\">import </span></span><span style=\"color: rgb(0, 187, 187)\"><span class=\"ansi-cyan-fg\">scala.util.{Success, Failure}</span></span>\n",
       "<span style=\"color: rgb(0, 187, 187)\"><span class=\"ansi-cyan-fg\">promise</span></span>: <span style=\"color: rgb(0, 187, 0)\"><span class=\"ansi-green-fg\">Promise</span></span>[<span style=\"color: rgb(0, 187, 0)\"><span class=\"ansi-green-fg\">Int</span></span>] = <span style=\"color: rgb(0, 187, 0)\"><span class=\"ansi-green-fg\"><span style=\"color: yellow\"><span class=\"ansi-yellow-fg\">Success</span></span>(value = <span style=\"color: rgb(0, 187, 0)\"><span class=\"ansi-green-fg\">42</span></span>)</span></span>\n",
       "<span style=\"color: rgb(0, 187, 187)\"><span class=\"ansi-cyan-fg\">future</span></span>: <span style=\"color: rgb(0, 187, 0)\"><span class=\"ansi-green-fg\">Future</span></span>[<span style=\"color: rgb(0, 187, 0)\"><span class=\"ansi-green-fg\">Int</span></span>] = <span style=\"color: rgb(0, 187, 0)\"><span class=\"ansi-green-fg\"><span style=\"color: yellow\"><span class=\"ansi-yellow-fg\">Success</span></span>(value = <span style=\"color: rgb(0, 187, 0)\"><span class=\"ansi-green-fg\">42</span></span>)</span></span>\n",
       "<span style=\"color: rgb(0, 187, 187)\"><span class=\"ansi-cyan-fg\">res1_5</span></span>: <span style=\"color: rgb(0, 187, 0)\"><span class=\"ansi-green-fg\">Future</span></span>[<span style=\"color: rgb(0, 187, 0)\"><span class=\"ansi-green-fg\">Promise</span></span>[<span style=\"color: rgb(0, 187, 0)\"><span class=\"ansi-green-fg\">Int</span></span>]] = <span style=\"color: rgb(0, 187, 0)\"><span class=\"ansi-green-fg\"><span style=\"color: yellow\"><span class=\"ansi-yellow-fg\">Success</span></span>(value = <span style=\"color: rgb(0, 187, 0)\"><span class=\"ansi-green-fg\"><span style=\"color: yellow\"><span class=\"ansi-yellow-fg\">Success</span></span>(value = <span style=\"color: rgb(0, 187, 0)\"><span class=\"ansi-green-fg\">42</span></span>)</span></span>)</span></span></code></pre>\n",
       "</div>"
      ],
      "text/plain": [
       "\u001b[32mimport \u001b[39m\u001b[36mscala.concurrent.{Future, Promise}\u001b[39m\n",
       "\u001b[32mimport \u001b[39m\u001b[36mscala.concurrent.ExecutionContext.Implicits.global\u001b[39m\n",
       "\u001b[32mimport \u001b[39m\u001b[36mscala.util.{Success, Failure}\u001b[39m\n",
       "\u001b[36mpromise\u001b[39m: \u001b[32mPromise\u001b[39m[\u001b[32mInt\u001b[39m] = \u001b[32m\u001b[33mSuccess\u001b[39m(value = \u001b[32m42\u001b[39m)\u001b[39m\n",
       "\u001b[36mfuture\u001b[39m: \u001b[32mFuture\u001b[39m[\u001b[32mInt\u001b[39m] = \u001b[32m\u001b[33mSuccess\u001b[39m(value = \u001b[32m42\u001b[39m)\u001b[39m\n",
       "\u001b[36mres1_5\u001b[39m: \u001b[32mFuture\u001b[39m[\u001b[32mPromise\u001b[39m[\u001b[32mInt\u001b[39m]] = \u001b[32m\u001b[33mSuccess\u001b[39m(value = \u001b[32m\u001b[33mSuccess\u001b[39m(value = \u001b[32m42\u001b[39m)\u001b[39m)\u001b[39m"
      ]
     },
     "metadata": {},
     "output_type": "display_data"
    }
   ],
   "source": [
    "import scala.concurrent.{Future, Promise}\n",
    "import scala.concurrent.ExecutionContext.Implicits.global\n",
    "import scala.util.{Success, Failure}\n",
    "\n",
    "val promise: Promise[Int] = Promise[Int]();\n",
    "val future: Future[Int] = promise.future;\n",
    "\n",
    "\n",
    "Future {\n",
    "  Thread.sleep(2000)\n",
    "  promise.success(42)\n",
    "}\n",
    "\n",
    "future.onComplete {\n",
    "  case Success(value) => println(s\"Future completed with value: $value\")\n",
    "  case Failure(exception) => println(s\"Future failed with exception: $exception\")\n",
    "}\n",
    "\n",
    "Thread.sleep(3000);\n"
   ]
  },
  {
   "cell_type": "code",
   "execution_count": 2,
   "metadata": {},
   "outputs": [
    {
     "name": "stdout",
     "output_type": "stream",
     "text": [
      "Future failed with exception: java.lang.RuntimeException: Something went wrong\n"
     ]
    },
    {
     "data": {
      "text/html": [
       "<div class=\"jp-RenderedText\">\n",
       "<pre><code><span style=\"color: rgb(0, 187, 0)\"><span class=\"ansi-green-fg\">import </span></span><span style=\"color: rgb(0, 187, 187)\"><span class=\"ansi-cyan-fg\">scala.concurrent.{Future, Promise}</span></span>\n",
       "<span style=\"color: rgb(0, 187, 0)\"><span class=\"ansi-green-fg\">import </span></span><span style=\"color: rgb(0, 187, 187)\"><span class=\"ansi-cyan-fg\">scala.concurrent.ExecutionContext.Implicits.global</span></span>\n",
       "<span style=\"color: rgb(0, 187, 0)\"><span class=\"ansi-green-fg\">import </span></span><span style=\"color: rgb(0, 187, 187)\"><span class=\"ansi-cyan-fg\">scala.util.{Success, Failure}</span></span>\n",
       "<span style=\"color: rgb(0, 187, 187)\"><span class=\"ansi-cyan-fg\">promise</span></span>: <span style=\"color: rgb(0, 187, 0)\"><span class=\"ansi-green-fg\">Promise</span></span>[<span style=\"color: rgb(0, 187, 0)\"><span class=\"ansi-green-fg\">Int</span></span>] = <span style=\"color: rgb(0, 187, 0)\"><span class=\"ansi-green-fg\"><span style=\"color: yellow\"><span class=\"ansi-yellow-fg\">Failure</span></span>(exception = java.lang.RuntimeException: Something went wrong)</span></span>\n",
       "<span style=\"color: rgb(0, 187, 187)\"><span class=\"ansi-cyan-fg\">future</span></span>: <span style=\"color: rgb(0, 187, 0)\"><span class=\"ansi-green-fg\">Future</span></span>[<span style=\"color: rgb(0, 187, 0)\"><span class=\"ansi-green-fg\">Int</span></span>] = <span style=\"color: rgb(0, 187, 0)\"><span class=\"ansi-green-fg\"><span style=\"color: yellow\"><span class=\"ansi-yellow-fg\">Failure</span></span>(exception = java.lang.RuntimeException: Something went wrong)</span></span>\n",
       "<span style=\"color: rgb(0, 187, 187)\"><span class=\"ansi-cyan-fg\">res2_5</span></span>: <span style=\"color: rgb(0, 187, 0)\"><span class=\"ansi-green-fg\">Future</span></span>[<span style=\"color: rgb(0, 187, 0)\"><span class=\"ansi-green-fg\">Promise</span></span>[<span style=\"color: rgb(0, 187, 0)\"><span class=\"ansi-green-fg\">Int</span></span>]] = <span style=\"color: rgb(0, 187, 0)\"><span class=\"ansi-green-fg\"><span style=\"color: yellow\"><span class=\"ansi-yellow-fg\">Success</span></span>(value = <span style=\"color: rgb(0, 187, 0)\"><span class=\"ansi-green-fg\"><span style=\"color: yellow\"><span class=\"ansi-yellow-fg\">Failure</span></span>(exception = java.lang.RuntimeException: Something went wrong)</span></span>)</span></span></code></pre>\n",
       "</div>"
      ],
      "text/plain": [
       "\u001b[32mimport \u001b[39m\u001b[36mscala.concurrent.{Future, Promise}\u001b[39m\n",
       "\u001b[32mimport \u001b[39m\u001b[36mscala.concurrent.ExecutionContext.Implicits.global\u001b[39m\n",
       "\u001b[32mimport \u001b[39m\u001b[36mscala.util.{Success, Failure}\u001b[39m\n",
       "\u001b[36mpromise\u001b[39m: \u001b[32mPromise\u001b[39m[\u001b[32mInt\u001b[39m] = \u001b[32m\u001b[33mFailure\u001b[39m(exception = java.lang.RuntimeException: Something went wrong)\u001b[39m\n",
       "\u001b[36mfuture\u001b[39m: \u001b[32mFuture\u001b[39m[\u001b[32mInt\u001b[39m] = \u001b[32m\u001b[33mFailure\u001b[39m(exception = java.lang.RuntimeException: Something went wrong)\u001b[39m\n",
       "\u001b[36mres2_5\u001b[39m: \u001b[32mFuture\u001b[39m[\u001b[32mPromise\u001b[39m[\u001b[32mInt\u001b[39m]] = \u001b[32m\u001b[33mSuccess\u001b[39m(value = \u001b[32m\u001b[33mFailure\u001b[39m(exception = java.lang.RuntimeException: Something went wrong)\u001b[39m)\u001b[39m"
      ]
     },
     "metadata": {},
     "output_type": "display_data"
    }
   ],
   "source": [
    "import scala.concurrent.{Future, Promise}\n",
    "import scala.concurrent.ExecutionContext.Implicits.global\n",
    "import scala.util.{Success, Failure}\n",
    "\n",
    "val promise: Promise[Int] = Promise[Int]()\n",
    "val future: Future[Int] = promise.future\n",
    "\n",
    "Future {\n",
    "  Thread.sleep(2000)\n",
    "  promise.failure(new RuntimeException(\"Something went wrong\"))\n",
    "}\n",
    "\n",
    "future.onComplete {\n",
    "  case Success(value) => println(s\"Future completed with value: $value\")\n",
    "  case Failure(exception) => println(s\"Future failed with exception: $exception\")\n",
    "}\n",
    "\n",
    "Thread.sleep(3000)\n"
   ]
  }
 ],
 "metadata": {
  "kernelspec": {
   "display_name": "Scala",
   "language": "scala",
   "name": "scala"
  },
  "language_info": {
   "codemirror_mode": "text/x-scala",
   "file_extension": ".sc",
   "mimetype": "text/x-scala",
   "name": "scala",
   "nbconvert_exporter": "script",
   "version": "2.13.14"
  }
 },
 "nbformat": 4,
 "nbformat_minor": 2
}
