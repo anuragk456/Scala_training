{
 "cells": [
  {
   "cell_type": "code",
   "execution_count": 1,
   "metadata": {},
   "outputs": [
    {
     "name": "stdout",
     "output_type": "stream",
     "text": [
      "42\n",
      "0\n",
      "Some(84)\n"
     ]
    },
    {
     "data": {
      "text/plain": [
       "\u001b[36msomeValue\u001b[39m: \u001b[32mOption\u001b[39m[\u001b[32mInt\u001b[39m] = \u001b[33mSome\u001b[39m(value = \u001b[32m42\u001b[39m)\n",
       "\u001b[36mnoneValue\u001b[39m: \u001b[32mOption\u001b[39m[\u001b[32mInt\u001b[39m] = \u001b[32mNone\u001b[39m\n",
       "\u001b[36mdoubledValue\u001b[39m: \u001b[32mOption\u001b[39m[\u001b[32mInt\u001b[39m] = \u001b[33mSome\u001b[39m(value = \u001b[32m84\u001b[39m)"
      ]
     },
     "execution_count": 1,
     "metadata": {},
     "output_type": "execute_result"
    }
   ],
   "source": [
    "val someValue: Option[Int] = Some(42)\n",
    "val noneValue: Option[Int] = None\n",
    "\n",
    "println(someValue.getOrElse(0))  // 42\n",
    "println(noneValue.getOrElse(0))  // 0\n",
    "\n",
    "val doubledValue = someValue.map(_ * 2)\n",
    "println(doubledValue)  // Some(84)\n"
   ]
  },
  {
   "cell_type": "code",
   "execution_count": 2,
   "metadata": {},
   "outputs": [
    {
     "name": "stdout",
     "output_type": "stream",
     "text": [
      "42\n",
      "0\n",
      "Right(43)\n",
      "Success: 42\n"
     ]
    },
    {
     "data": {
      "text/plain": [
       "\u001b[36msuccess\u001b[39m: \u001b[32mEither\u001b[39m[\u001b[32mString\u001b[39m, \u001b[32mInt\u001b[39m] = \u001b[33mRight\u001b[39m(value = \u001b[32m42\u001b[39m)\n",
       "\u001b[36mfailure\u001b[39m: \u001b[32mEither\u001b[39m[\u001b[32mString\u001b[39m, \u001b[32mInt\u001b[39m] = \u001b[33mLeft\u001b[39m(value = \u001b[32m\"Error occurred\"\u001b[39m)\n",
       "\u001b[36mincremented\u001b[39m: \u001b[32mEither\u001b[39m[\u001b[32mString\u001b[39m, \u001b[32mInt\u001b[39m] = \u001b[33mRight\u001b[39m(value = \u001b[32m43\u001b[39m)\n",
       "\u001b[36mresult\u001b[39m: \u001b[32mString\u001b[39m = \u001b[32m\"Success: 42\"\u001b[39m"
      ]
     },
     "execution_count": 2,
     "metadata": {},
     "output_type": "execute_result"
    }
   ],
   "source": [
    "val success: Either[String, Int] = Right(42)\n",
    "val failure: Either[String, Int] = Left(\"Error occurred\")\n",
    "\n",
    "println(success.getOrElse(0))  // 42\n",
    "println(failure.getOrElse(0))  // 0\n",
    "\n",
    "val incremented = success.map(_ + 1)\n",
    "println(incremented)  // Right(43)\n",
    "\n",
    "val result = success.fold(\n",
    "  error => s\"Failure: $error\",  // If Left, return an error message\n",
    "  value => s\"Success: $value\"   // If Right, return the success message\n",
    ")\n",
    "println(result)  // Success: 42\n"
   ]
  },
  {
   "cell_type": "code",
   "execution_count": null,
   "metadata": {},
   "outputs": [
    {
     "name": "stdout",
     "output_type": "stream",
     "text": [
      "Yes, this is me\n",
      "His name is: Anurag\n"
     ]
    },
    {
     "data": {
      "text/plain": [
       "defined \u001b[32mfunction\u001b[39m \u001b[36mmulti\u001b[39m"
      ]
     },
     "execution_count": 13,
     "metadata": {},
     "output_type": "execute_result"
    }
   ],
   "source": [
    "def multi(name: String)(x:Unit): Unit = {\n",
    "  println(s\"His name is: $name\")\n",
    "  \n",
    "}\n",
    "\n",
    "\n",
    "multi(\"Anurag\") {\n",
    "  println(\"Yes, this is me\")\n",
    "}\n"
   ]
  },
  {
   "cell_type": "code",
   "execution_count": null,
   "metadata": {},
   "outputs": [
    {
     "name": "stdout",
     "output_type": "stream",
     "text": [
      "Hello, Scala!\n"
     ]
    },
    {
     "data": {
      "text/plain": [
       "defined \u001b[32mfunction\u001b[39m \u001b[36maddPrefixAndSuffix\u001b[39m\n",
       "\u001b[36mresult\u001b[39m: \u001b[32mString\u001b[39m = \u001b[32m\"Hello, Scala!\"\u001b[39m"
      ]
     },
     "execution_count": 14,
     "metadata": {},
     "output_type": "execute_result"
    }
   ],
   "source": [
    "def addPrefixAndSuffix(prefix: String)(suffix: String)(word: String): String = {\n",
    "  prefix + word + suffix;\n",
    "}\n",
    "\n",
    "val result = addPrefixAndSuffix(\"Hello, \")(\"!\")(\"Scala\")\n",
    "println(result)  \n"
   ]
  },
  {
   "cell_type": "code",
   "execution_count": 15,
   "metadata": {},
   "outputs": [
    {
     "name": "stdout",
     "output_type": "stream",
     "text": [
      "10\n",
      "20\n"
     ]
    },
    {
     "data": {
      "text/plain": [
       "defined \u001b[32mfunction\u001b[39m \u001b[36mmultiply\u001b[39m\n",
       "\u001b[36mmultiplyBy2\u001b[39m: \u001b[32mInt\u001b[39m => \u001b[32mInt\u001b[39m = ammonite.$sess.cmd15$Helper$$Lambda/0x00000070018ea3d0@72c754ee"
      ]
     },
     "execution_count": 15,
     "metadata": {},
     "output_type": "execute_result"
    }
   ],
   "source": [
    "def multiply(a: Int)(b: Int): Int = a * b\n",
    "\n",
    "val multiplyBy2 = multiply(2) _\n",
    "\n",
    "println(multiplyBy2(5))  \n",
    "println(multiplyBy2(10)) \n"
   ]
  },
  {
   "cell_type": "code",
   "execution_count": 16,
   "metadata": {},
   "outputs": [
    {
     "name": "stdout",
     "output_type": "stream",
     "text": [
      "[INFO] This is an informational message.\n",
      "[ERROR] An error occurred.\n"
     ]
    },
    {
     "data": {
      "text/plain": [
       "defined \u001b[32mfunction\u001b[39m \u001b[36mlog\u001b[39m"
      ]
     },
     "execution_count": 16,
     "metadata": {},
     "output_type": "execute_result"
    }
   ],
   "source": [
    "def log(level: String)(message: String): Unit = {\n",
    "  println(s\"[$level] $message\")\n",
    "}\n",
    "\n",
    "log(\"INFO\")(\"This is an informational message.\")\n",
    "log(\"ERROR\")(\"An error occurred.\")\n"
   ]
  },
  {
   "cell_type": "code",
   "execution_count": 17,
   "metadata": {},
   "outputs": [
    {
     "name": "stdout",
     "output_type": "stream",
     "text": [
      "8\n",
      "2\n"
     ]
    },
    {
     "data": {
      "text/plain": [
       "defined \u001b[32mfunction\u001b[39m \u001b[36marithmeticOperation\u001b[39m"
      ]
     },
     "execution_count": 17,
     "metadata": {},
     "output_type": "execute_result"
    }
   ],
   "source": [
    "def arithmeticOperation(operation: String)(x: Int)(y: Int): Int = operation match {\n",
    "  case \"add\" => x + y\n",
    "  case \"subtract\" => x - y\n",
    "  case _ => 0\n",
    "}\n",
    "\n",
    "println(arithmeticOperation(\"add\")(5)(3))       \n",
    "println(arithmeticOperation(\"subtract\")(5)(3))  \n"
   ]
  },
  {
   "cell_type": "code",
   "execution_count": 18,
   "metadata": {},
   "outputs": [
    {
     "name": "stdout",
     "output_type": "stream",
     "text": [
      "Configuration: Mode: Production, 10, true\n",
      "Configuration: Mode: Development, 5, false\n"
     ]
    },
    {
     "data": {
      "text/plain": [
       "defined \u001b[32mfunction\u001b[39m \u001b[36mconfigureApp\u001b[39m\n",
       "\u001b[36mconfig1\u001b[39m: \u001b[32mString\u001b[39m = \u001b[32m\"Configuration: Mode: Production, 10, true\"\u001b[39m\n",
       "\u001b[36mconfig2\u001b[39m: \u001b[32mString\u001b[39m = \u001b[32m\"Configuration: Mode: Development, 5, false\"\u001b[39m"
      ]
     },
     "execution_count": 18,
     "metadata": {},
     "output_type": "execute_result"
    }
   ],
   "source": [
    "def configureApp(setting1: String)(setting2: Int)(setting3: Boolean): String = {\n",
    "  s\"Configuration: $setting1, $setting2, $setting3\"\n",
    "}\n",
    "\n",
    "val config1 = configureApp(\"Mode: Production\")(10)(true)\n",
    "val config2 = configureApp(\"Mode: Development\")(5)(false)\n",
    "\n",
    "println(config1)\n",
    "println(config2)\n"
   ]
  },
  {
   "cell_type": "code",
   "execution_count": 20,
   "metadata": {},
   "outputs": [
    {
     "name": "stdout",
     "output_type": "stream",
     "text": [
      "10\n",
      "5\n"
     ]
    },
    {
     "data": {
      "text/plain": [
       "defined \u001b[32mfunction\u001b[39m \u001b[36msum\u001b[39m\n",
       "defined \u001b[32mfunction\u001b[39m \u001b[36msum\u001b[39m\n",
       "\u001b[36msum2\u001b[39m: \u001b[32mInt\u001b[39m => \u001b[32mInt\u001b[39m = ammonite.$sess.cmd20$Helper$$Lambda/0x00000070019070b0@70ddd13d"
      ]
     },
     "execution_count": 20,
     "metadata": {},
     "output_type": "execute_result"
    }
   ],
   "source": [
    "//multi function\n",
    "def sum(a: Int, b: Int)(c: Int, d: Int): Int = a + b + c + d\n",
    "println(sum(1, 2)(3, 4));\n",
    "\n",
    "\n",
    "// Curry Function\n",
    "def sum(a: Int)(b: Int): Int = a + b;\n",
    "val sum2 = sum(2) _;\n",
    "println(sum2(3));\n"
   ]
  },
  {
   "cell_type": "code",
   "execution_count": 3,
   "metadata": {},
   "outputs": [
    {
     "name": "stdout",
     "output_type": "stream",
     "text": [
      "Inside the main function\n"
     ]
    },
    {
     "data": {
      "text/plain": [
       "\u001b[32mimport \u001b[39m\u001b[36mscala.concurrent.{Future, ExecutionContext}\u001b[39m\n",
       "\u001b[32mimport \u001b[39m\u001b[36mscala.util.{Success, Failure}\u001b[39m\n",
       "\u001b[32mimport \u001b[39m\u001b[36mscala.concurrent.ExecutionContext.Implicits.global\u001b[39m\n",
       "defined \u001b[32mfunction\u001b[39m \u001b[36mtesting\u001b[39m\n",
       "defined \u001b[32mfunction\u001b[39m \u001b[36mabc\u001b[39m"
      ]
     },
     "execution_count": 3,
     "metadata": {},
     "output_type": "execute_result"
    }
   ],
   "source": [
    "import scala.concurrent.{Future, ExecutionContext}\n",
    "import scala.util.{Success, Failure}\n",
    "import scala.concurrent.ExecutionContext.Implicits.global\n",
    "def testing(): Future[String] = {\n",
    "  Future {\n",
    "    println(\"Inside the function.....\")\n",
    "    Thread.sleep(3000) \n",
    "    \"Hey, I am ok..\"   \n",
    "  }\n",
    "}\n",
    "\n",
    "@main def abc(): Unit = {\n",
    "   val resultFuture = testing();\n",
    "  \n",
    "  resultFuture.onComplete {\n",
    "    case Success(value) => println(s\"Future completed with: $value\")\n",
    "    case Failure(exception) => println(s\"Future failed with: $exception\")\n",
    "  }\n",
    "\n",
    "  println(\"Inside the main function\");\n",
    "  Thread.sleep(10000);\n",
    "}\n",
    "\n",
    "abc();\n"
   ]
  }
 ],
 "metadata": {
  "kernelspec": {
   "display_name": "Scala",
   "language": "scala",
   "name": "scala"
  },
  "language_info": {
   "codemirror_mode": "text/x-scala",
   "file_extension": ".sc",
   "mimetype": "text/x-scala",
   "name": "scala",
   "nbconvert_exporter": "script",
   "version": "2.13.14"
  }
 },
 "nbformat": 4,
 "nbformat_minor": 2
}
