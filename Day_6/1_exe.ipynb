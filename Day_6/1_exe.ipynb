{
 "cells": [
  {
   "cell_type": "code",
   "execution_count": 1,
   "metadata": {},
   "outputs": [
    {
     "name": "stdout",
     "output_type": "stream",
     "text": [
      "Students with scores greater than 70:\n",
      "Student(SNo: 1, Name: Alice, Score: 71)\n",
      "Student(SNo: 2, Name: Bob, Score: 75)\n",
      "\n",
      "Students with scores less than or equal to 60:\n",
      "Student(SNo: 3, Name: Charlie, Score: 55)\n",
      "Student(SNo: 4, Name: David, Score: 45)\n"
     ]
    },
    {
     "data": {
      "text/plain": [
       "defined \u001b[32mclass\u001b[39m \u001b[36mStudent\u001b[39m\n",
       "defined \u001b[32mclass\u001b[39m \u001b[36mEnhancedList\u001b[39m\n",
       "\u001b[36mstudents\u001b[39m: \u001b[32mList\u001b[39m[\u001b[32mStudent\u001b[39m] = \u001b[33mList\u001b[39m(\n",
       "  \u001b[33mStudent\u001b[39m(sno = \u001b[32m1\u001b[39m, name = \u001b[32m\"Alice\"\u001b[39m, score = \u001b[32m71\u001b[39m),\n",
       "  \u001b[33mStudent\u001b[39m(sno = \u001b[32m2\u001b[39m, name = \u001b[32m\"Bob\"\u001b[39m, score = \u001b[32m75\u001b[39m),\n",
       "  \u001b[33mStudent\u001b[39m(sno = \u001b[32m3\u001b[39m, name = \u001b[32m\"Charlie\"\u001b[39m, score = \u001b[32m55\u001b[39m),\n",
       "  \u001b[33mStudent\u001b[39m(sno = \u001b[32m4\u001b[39m, name = \u001b[32m\"David\"\u001b[39m, score = \u001b[32m45\u001b[39m)\n",
       ")\n",
       "\u001b[36mstudentsAbove70\u001b[39m: \u001b[32mList\u001b[39m[\u001b[32mStudent\u001b[39m] = \u001b[33mList\u001b[39m(\n",
       "  \u001b[33mStudent\u001b[39m(sno = \u001b[32m1\u001b[39m, name = \u001b[32m\"Alice\"\u001b[39m, score = \u001b[32m71\u001b[39m),\n",
       "  \u001b[33mStudent\u001b[39m(sno = \u001b[32m2\u001b[39m, name = \u001b[32m\"Bob\"\u001b[39m, score = \u001b[32m75\u001b[39m)\n",
       ")\n",
       "\u001b[36mstudentsBelow60\u001b[39m: \u001b[32mList\u001b[39m[\u001b[32mStudent\u001b[39m] = \u001b[33mList\u001b[39m(\n",
       "  \u001b[33mStudent\u001b[39m(sno = \u001b[32m3\u001b[39m, name = \u001b[32m\"Charlie\"\u001b[39m, score = \u001b[32m55\u001b[39m),\n",
       "  \u001b[33mStudent\u001b[39m(sno = \u001b[32m4\u001b[39m, name = \u001b[32m\"David\"\u001b[39m, score = \u001b[32m45\u001b[39m)\n",
       ")"
      ]
     },
     "execution_count": 1,
     "metadata": {},
     "output_type": "execute_result"
    }
   ],
   "source": [
    "case class Student(sno: Int, name: String, score: Int) {\n",
    "  override def toString: String = {\n",
    "    s\"Student(SNo: $sno, Name: $name, Score: $score)\"\n",
    "  }\n",
    "}\n",
    "\n",
    "implicit class EnhancedList(val students: List[Student]) {\n",
    "  def %>(threshold: Int): List[Student] = {\n",
    "    students.filter(_.score > threshold)\n",
    "  }\n",
    "  \n",
    "  def %<(threshold: Int): List[Student] = {\n",
    "    students.filter(_.score <= threshold)\n",
    "  }\n",
    "}\n",
    "\n",
    "val students = List(\n",
    "  Student(1, \"Alice\", 71),\n",
    "  Student(2, \"Bob\", 75),\n",
    "  Student(3, \"Charlie\", 55),\n",
    "  Student(4, \"David\", 45)\n",
    ")\n",
    "\n",
    "// val studentsAbove70 = students.%>(70)\n",
    "// val studentsBelow60 = students.%<(60)\n",
    "\n",
    "val studentsAbove70 = students %> 70\n",
    "val studentsBelow60 = students %< 60\n",
    "\n",
    "println(\"Students with scores greater than 70:\")\n",
    "studentsAbove70.foreach(println)\n",
    "\n",
    "println(\"\\nStudents with scores less than or equal to 60:\")\n",
    "studentsBelow60.foreach(println)\n"
   ]
  },
  {
   "cell_type": "code",
   "execution_count": 3,
   "metadata": {},
   "outputs": [
    {
     "name": "stdout",
     "output_type": "stream",
     "text": [
      "7\n"
     ]
    },
    {
     "data": {
      "text/plain": [
       "\u001b[36mx\u001b[39m: \u001b[32mInt\u001b[39m = \u001b[32m7\u001b[39m"
      ]
     },
     "execution_count": 3,
     "metadata": {},
     "output_type": "execute_result"
    }
   ],
   "source": [
    "val x = 1+2*3;\n",
    "println(x);"
   ]
  }
 ],
 "metadata": {
  "kernelspec": {
   "display_name": "Scala",
   "language": "scala",
   "name": "scala"
  },
  "language_info": {
   "codemirror_mode": "text/x-scala",
   "file_extension": ".sc",
   "mimetype": "text/x-scala",
   "name": "scala",
   "nbconvert_exporter": "script",
   "version": "2.13.14"
  }
 },
 "nbformat": 4,
 "nbformat_minor": 2
}
