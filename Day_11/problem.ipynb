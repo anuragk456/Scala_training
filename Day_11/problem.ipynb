{
 "cells": [
  {
   "cell_type": "markdown",
   "metadata": {},
   "source": [
    "```\n",
    "Add JWT token security\n",
    "to the api implemented as part\n",
    "of the Week3 project\n",
    "\n",
    "Paste the screen shots of the document\n",
    "```"
   ]
  }
 ],
 "metadata": {
  "language_info": {
   "name": "python"
  }
 },
 "nbformat": 4,
 "nbformat_minor": 2
}
