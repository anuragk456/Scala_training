{
 "cells": [
  {
   "cell_type": "markdown",
   "metadata": {},
   "source": [
    "## Day 1"
   ]
  },
  {
   "cell_type": "markdown",
   "metadata": {},
   "source": [
    "```\n",
    "* Formatted Output\n",
    "* Variables and literals\n",
    "* Datatypes (All possibble datatypes in scala)\n",
    "* Conditional and Jump Statement \n",
    "* Iteratives Statements\n",
    "* Selection Statements \n",
    "* Single and Multi Dimensional Arrays\n",
    "* Basic Collections\n",
    "```"
   ]
  }
 ],
 "metadata": {
  "language_info": {
   "name": "python"
  }
 },
 "nbformat": 4,
 "nbformat_minor": 2
}
