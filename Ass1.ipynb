{
 "cells": [
  {
   "cell_type": "markdown",
   "metadata": {},
   "source": [
    "## Day 1"
   ]
  },
  {
   "cell_type": "markdown",
   "metadata": {},
   "source": [
    "\n",
    "* Formatted Output\n",
    "* Variables and literals\n",
    "* Datatypes (All possibble datatypes in scala)\n",
    "* Conditional and Jump Statement \n",
    "* Iteratives Statements\n",
    "* Selection Statements \n",
    "* Single and Multi Dimensional Arrays\n",
    "* Basic Collections\n"
   ]
  },
  {
   "cell_type": "markdown",
   "metadata": {},
   "source": [
    "## 1. Formatted Output"
   ]
  },
  {
   "cell_type": "markdown",
   "metadata": {},
   "source": [
    "####                                                    print\n",
    "* print is the simplest method for displaying output in Scala. It just prints anything you pass it, one after the other, in the same line.\n"
   ]
  },
  {
   "cell_type": "code",
   "execution_count": 2,
   "metadata": {},
   "outputs": [
    {
     "name": "stdout",
     "output_type": "stream",
     "text": [
      "3035"
     ]
    },
    {
     "data": {
      "text/plain": [
       "\u001b[36ma\u001b[39m: \u001b[32mInteger\u001b[39m = \u001b[32m30\u001b[39m\n",
       "\u001b[36mb\u001b[39m: \u001b[32mInteger\u001b[39m = \u001b[32m35\u001b[39m"
      ]
     },
     "execution_count": 2,
     "metadata": {},
     "output_type": "execute_result"
    }
   ],
   "source": [
    "val a: Integer = 30;\n",
    "print(a);\n",
    "val b: Integer = 35;\n",
    "print(b);"
   ]
  },
  {
   "cell_type": "markdown",
   "metadata": {},
   "source": [
    "\n",
    "####                                                    println\n",
    "* println is used if you want to display each specific output on separate lines. With each println statement, the output is automatically displayed on the next line.\n"
   ]
  },
  {
   "cell_type": "code",
   "execution_count": 3,
   "metadata": {},
   "outputs": [
    {
     "name": "stdout",
     "output_type": "stream",
     "text": [
      "30\n",
      "35\n"
     ]
    },
    {
     "data": {
      "text/plain": [
       "\u001b[36ma\u001b[39m: \u001b[32mInteger\u001b[39m = \u001b[32m30\u001b[39m\n",
       "\u001b[36mb\u001b[39m: \u001b[32mInteger\u001b[39m = \u001b[32m35\u001b[39m"
      ]
     },
     "execution_count": 3,
     "metadata": {},
     "output_type": "execute_result"
    }
   ],
   "source": [
    "val a: Integer = 30;\n",
    "println(a);\n",
    "val b: Integer = 35;\n",
    "println(b);"
   ]
  },
  {
   "cell_type": "markdown",
   "metadata": {},
   "source": [
    "\n",
    "####                                                    printf\n",
    "* printf is used for formatting text. You can use it to append different data types to your text that is to be printed.\n"
   ]
  },
  {
   "cell_type": "code",
   "execution_count": 5,
   "metadata": {},
   "outputs": [
    {
     "name": "stdout",
     "output_type": "stream",
     "text": [
      "30\n",
      "35"
     ]
    },
    {
     "data": {
      "text/plain": [
       "\u001b[36ma\u001b[39m: \u001b[32mInteger\u001b[39m = \u001b[32m30\u001b[39m\n",
       "\u001b[36mb\u001b[39m: \u001b[32mInteger\u001b[39m = \u001b[32m35\u001b[39m"
      ]
     },
     "execution_count": 5,
     "metadata": {},
     "output_type": "execute_result"
    }
   ],
   "source": [
    "val a: Integer = 30;\n",
    "printf(\"%d\\n\", a)\n",
    "val b: Integer = 35;\n",
    "printf(\"%d\\n\",b);"
   ]
  },
  {
   "cell_type": "markdown",
   "metadata": {},
   "source": [
    "##  2. Variable "
   ]
  },
  {
   "cell_type": "markdown",
   "metadata": {},
   "source": [
    "#### There are two type of variable are present :\n",
    "\n",
    "#####     1. val : Val are immutable variables; once they are initialized, they can never be reassigned.\n",
    "#####     2. var : Var are mutable variables; they can be reassigned throughout their lifetime as long as they are valid."
   ]
  },
  {
   "cell_type": "code",
   "execution_count": 8,
   "metadata": {},
   "outputs": [
    {
     "name": "stderr",
     "output_type": "stream",
     "text": [
      "cmd8.sc:2: reassignment to val\n",
      "val res8_1 = message = \"hey\"\n",
      "                     ^\n",
      "Compilation Failed"
     ]
    }
   ],
   "source": [
    "val message: String = \"Hiiiii\"\n",
    "message = \"hey\"\n",
    "println(message);"
   ]
  },
  {
   "cell_type": "code",
   "execution_count": 9,
   "metadata": {},
   "outputs": [
    {
     "name": "stdout",
     "output_type": "stream",
     "text": [
      "Hey\n"
     ]
    },
    {
     "data": {
      "text/html": [
       "<div class=\"jp-RenderedText\">\n",
       "<pre><code><span style=\"color: rgb(0, 187, 187)\"><span class=\"ansi-cyan-fg\">message</span></span>: <span style=\"color: rgb(0, 187, 0)\"><span class=\"ansi-green-fg\">String</span></span> = <span style=\"color: rgb(0, 187, 0)\"><span class=\"ansi-green-fg\">&quot;Hey&quot;</span></span></code></pre>\n",
       "</div>"
      ],
      "text/plain": [
       "\u001b[36mmessage\u001b[39m: \u001b[32mString\u001b[39m = \u001b[32m\"Hey\"\u001b[39m"
      ]
     },
     "metadata": {},
     "output_type": "display_data"
    }
   ],
   "source": [
    "var message: String = \"Hiiiiii\"\n",
    "message = \"Hey\"\n",
    "println(message)"
   ]
  },
  {
   "cell_type": "markdown",
   "metadata": {},
   "source": [
    "##  2. Literals \n",
    "\n",
    "#### Literals : Any constant value which can be assigned to the variable is called as literal. The literals are a series of symbols utilized for describing a constant value in the code.\n",
    "\n",
    "####                                                    Types of Literals \n",
    "1. Integer Literals : (Int or Long) Ranges : -2^31 to 2^30 for int.  -2^63 to 2^62 for Long.\n",
    "2. Decimal literals : The allowed digits are from 0 to 9.\n",
    "3. Hexa-decimal literals : The allowed digits are from 0 to 9 and characters used are from a to f.\n",
    "4. Floating Point Literals : This type of literals are of type Double as well as type Float when a suffix F or f is added at the end and we can even specify Double type by suffixing with d or D. \n",
    "5. Character Literals : Character literals are either uni-code character which are printable or are represented by escape sequences. The character literals are enclosed in a single quote.\n",
    "6. String literals : The String literals are a series of characters, which are available in double-quotes. The String literals can be handled smoothly by utilizing String Interpolation.\n",
    "7. Boolean Literals : Boolean literals allow only two values i.e. true and false, which are members of the type Boolean.\n",
    " \n"
   ]
  },
  {
   "cell_type": "code",
   "execution_count": 12,
   "metadata": {},
   "outputs": [
    {
     "name": "stdout",
     "output_type": "stream",
     "text": [
      "35\n",
      "35\n"
     ]
    },
    {
     "data": {
      "text/plain": [
       "\u001b[36ma\u001b[39m: \u001b[32mInt\u001b[39m = \u001b[32m35\u001b[39m\n",
       "\u001b[36mb\u001b[39m: \u001b[32mLong\u001b[39m = \u001b[32m35L\u001b[39m"
      ]
     },
     "execution_count": 12,
     "metadata": {},
     "output_type": "execute_result"
    }
   ],
   "source": [
    "//Integer Literals\n",
    "val a: Int = 35;\n",
    "val b: Long = 35;\n",
    "println(a);\n",
    "println(b);"
   ]
  },
  {
   "cell_type": "code",
   "execution_count": 13,
   "metadata": {},
   "outputs": [
    {
     "name": "stdout",
     "output_type": "stream",
     "text": [
      "52\n",
      "255\n"
     ]
    },
    {
     "data": {
      "text/plain": [
       "\u001b[36ma\u001b[39m: \u001b[32mInt\u001b[39m = \u001b[32m52\u001b[39m\n",
       "\u001b[36mb\u001b[39m: \u001b[32mInt\u001b[39m = \u001b[32m255\u001b[39m"
      ]
     },
     "execution_count": 13,
     "metadata": {},
     "output_type": "execute_result"
    }
   ],
   "source": [
    "// Hexa-decimal literals\n",
    "val a: Int = 0x34\n",
    "val b: Int = 0xFF\n",
    "\n",
    "println(a);\n",
    "println(b);"
   ]
  },
  {
   "cell_type": "code",
   "execution_count": 14,
   "metadata": {},
   "outputs": [
    {
     "name": "stdout",
     "output_type": "stream",
     "text": [
      "3.14\n"
     ]
    },
    {
     "data": {
      "text/plain": [
       "\u001b[36ma\u001b[39m: \u001b[32mDouble\u001b[39m = \u001b[32m3.14\u001b[39m"
      ]
     },
     "execution_count": 14,
     "metadata": {},
     "output_type": "execute_result"
    }
   ],
   "source": [
    "// Floating point literals \n",
    "\n",
    "val a:Double = 3.14;\n",
    "println(a);"
   ]
  },
  {
   "cell_type": "code",
   "execution_count": 16,
   "metadata": {},
   "outputs": [
    {
     "name": "stdout",
     "output_type": "stream",
     "text": [
      "a\n",
      "Q\n"
     ]
    },
    {
     "data": {
      "text/plain": [
       "\u001b[36ma\u001b[39m: \u001b[32mChar\u001b[39m = \u001b[32m'a'\u001b[39m\n",
       "\u001b[36my\u001b[39m: \u001b[32mChar\u001b[39m = \u001b[32m'Q'\u001b[39m"
      ]
     },
     "execution_count": 16,
     "metadata": {},
     "output_type": "execute_result"
    }
   ],
   "source": [
    "// Character Literals\n",
    "val a: Char = 'a'\n",
    "println(a);\n",
    "val y = '\\u0051'\n",
    "println(y);"
   ]
  },
  {
   "cell_type": "code",
   "execution_count": 19,
   "metadata": {},
   "outputs": [
    {
     "name": "stdout",
     "output_type": "stream",
     "text": [
      "Hey My Name is Anurag kurmi\n",
      "GeeksforGeeks\n",
      "        is a\n",
      "        computer science \n",
      "        portal\n"
     ]
    },
    {
     "data": {
      "text/plain": [
       "\u001b[36mstr\u001b[39m: \u001b[32mString\u001b[39m = \u001b[32m\"Hey My Name is Anurag kurmi\"\u001b[39m\n",
       "\u001b[36mx\u001b[39m: \u001b[32mString\u001b[39m = \u001b[32m\"\"\"GeeksforGeeks\n",
       "        is a\n",
       "        computer science \n",
       "        portal\"\"\"\u001b[39m"
      ]
     },
     "execution_count": 19,
     "metadata": {},
     "output_type": "execute_result"
    }
   ],
   "source": [
    "// String literals \n",
    "val str : String = \"Hey My Name is Anurag kurmi\";\n",
    "println(str);\n",
    "\n",
    "//multi line statements\n",
    "val x =\"\"\"GeeksforGeeks\n",
    "        is a\n",
    "        computer science \n",
    "        portal\"\"\"\n",
    "println(x);"
   ]
  },
  {
   "cell_type": "code",
   "execution_count": 21,
   "metadata": {},
   "outputs": [
    {
     "name": "stdout",
     "output_type": "stream",
     "text": [
      "true\n",
      "false\n"
     ]
    },
    {
     "data": {
      "text/plain": [
       "\u001b[36mflag\u001b[39m: \u001b[32mBoolean\u001b[39m = \u001b[32mtrue\u001b[39m\n",
       "\u001b[36mflag1\u001b[39m: \u001b[32mBoolean\u001b[39m = \u001b[32mfalse\u001b[39m"
      ]
     },
     "execution_count": 21,
     "metadata": {},
     "output_type": "execute_result"
    }
   ],
   "source": [
    "// Boolean literals \n",
    "\n",
    "val flag : Boolean = true;\n",
    "println(flag);\n",
    "val flag1 : Boolean = false;\n",
    "println(flag1);"
   ]
  },
  {
   "cell_type": "markdown",
   "metadata": {},
   "source": [
    "##  3. Data Types in Scala "
   ]
  },
  {
   "cell_type": "markdown",
   "metadata": {},
   "source": [
    "```\n",
    "DataType\t   Default value\t                 Description\n",
    "\n",
    "Boolean\t       False\t                                         True or False\n",
    "Byte\t        0\t                            8 bit signed value. Range:-128 to 127\n",
    "Short\t        0\t                            16 bit signed value. Range:-215 to 215-1\n",
    "Char\t      ‘\\u000’\t                        16 bit unsigned unicode character. Range:0 to 216-1\n",
    "Int\t            0\t                            32 bit signed value. Range:-231 to 231-1\n",
    "Long\t        0L\t                            64 bit signed value. Range:-263 to 263-1\n",
    "Float\t        0.0F\t                        32 bit IEEE 754 single-Precision float\n",
    "Double\t        0.0D\t                        64 bit IEEE 754 double-Precision float\n",
    "String\t        null\t                        A sequence of character\n",
    "Unit\t        –\t                            Coinsides to no value.\n",
    "Nothing\t        –\t                            It is a subtype of every other type and it contains no value.\n",
    "Any\t            –\t                            It is a supertype of all other types\n",
    "AnyVal\t        –\t                            It serve as value types.\n",
    "AnyRef\t        –\t                            It serves as reference types.\n",
    "\n",
    "```"
   ]
  },
  {
   "cell_type": "code",
   "execution_count": 24,
   "metadata": {},
   "outputs": [
    {
     "name": "stdout",
     "output_type": "stream",
     "text": [
      "boolean : True \n",
      "byte : 126\n",
      "float : 2.45673\n",
      "integer : 3\n",
      "short : 45\n",
      "double : 2.93846523\n",
      "char : A\n",
      "(long : ,3)\n",
      "(String : ,Hey this side Anurag kurmi)\n"
     ]
    },
    {
     "data": {
      "text/plain": [
       "\u001b[36ma\u001b[39m: \u001b[32mBoolean\u001b[39m = \u001b[32mtrue\u001b[39m\n",
       "\u001b[36mb\u001b[39m: \u001b[32mByte\u001b[39m = \u001b[32m126\u001b[39m\n",
       "\u001b[36mc\u001b[39m: \u001b[32mShort\u001b[39m = \u001b[32m45\u001b[39m\n",
       "\u001b[36md\u001b[39m: \u001b[32mChar\u001b[39m = \u001b[32m'A'\u001b[39m\n",
       "\u001b[36me\u001b[39m: \u001b[32mInt\u001b[39m = \u001b[32m3\u001b[39m\n",
       "\u001b[36mf\u001b[39m: \u001b[32mLong\u001b[39m = \u001b[32m3L\u001b[39m\n",
       "\u001b[36mg\u001b[39m: \u001b[32mFloat\u001b[39m = \u001b[32m2.45673F\u001b[39m\n",
       "\u001b[36mh\u001b[39m: \u001b[32mDouble\u001b[39m = \u001b[32m2.93846523\u001b[39m\n",
       "\u001b[36mi\u001b[39m: \u001b[32mString\u001b[39m = \u001b[32m\"Hey this side Anurag kurmi\"\u001b[39m"
      ]
     },
     "execution_count": 24,
     "metadata": {},
     "output_type": "execute_result"
    }
   ],
   "source": [
    "\n",
    "val a: Boolean = true\n",
    "val b: Byte = 126\n",
    "val c: Short = 45\n",
    "val d: Char = 'A'\n",
    "val e: Int = 3\n",
    "val f: Long = 3L\n",
    "val g: Float = 2.45673f\n",
    "val h: Double = 2.93846523\n",
    "val i: String = \"Hey this side Anurag kurmi\"\n",
    "\n",
    "if (a == true){\n",
    "    println(\"boolean : True \")\n",
    "}\n",
    "\n",
    "println(\"byte : \" + b)\n",
    "println(\"float : \" + g)\n",
    "println(\"integer : \" + e)\n",
    "println(\"short : \" + c)\n",
    "println(\"double : \" + h)\n",
    "println(\"char : \" + d)\n",
    "println(\"long : \", f);\n",
    "println(\"String : \", i);"
   ]
  }
 ],
 "metadata": {
  "kernelspec": {
   "display_name": "Scala",
   "language": "scala",
   "name": "scala"
  },
  "language_info": {
   "codemirror_mode": "text/x-scala",
   "file_extension": ".sc",
   "mimetype": "text/x-scala",
   "name": "scala",
   "nbconvert_exporter": "script",
   "version": "2.13.14"
  }
 },
 "nbformat": 4,
 "nbformat_minor": 2
}
