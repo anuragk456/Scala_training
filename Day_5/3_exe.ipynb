{
 "cells": [
  {
   "cell_type": "code",
   "execution_count": 1,
   "metadata": {},
   "outputs": [
    {
     "name": "stderr",
     "output_type": "stream",
     "text": [
      "cmd1.sc:7: implicit conversion method typeConversion should be enabled\n",
      "by making the implicit value scala.language.implicitConversions visible.\n",
      "This can be achieved by adding the import clause 'import scala.language.implicitConversions'\n",
      "or by setting the compiler option -language:implicitConversions.\n",
      "See the Scaladoc for value scala.language.implicitConversions for a discussion\n",
      "why the feature should be explicitly enabled.\n",
      "implicit def typeConversion(tuple: (Int, String, Int)): Student = {\n",
      "             ^\n"
     ]
    },
    {
     "name": "stdout",
     "output_type": "stream",
     "text": [
      "List of Students:\n",
      "Student(SNo: 1, Name: Alice, Score: 71)\n",
      "Student(SNo: 2, Name: Bob, Score: 75)\n",
      "Student(SNo: 3, Name: Charlie, Score: 55)\n",
      "Student(SNo: 4, Name: David, Score: 45)\n",
      "Student(SNo: 5, Name: Eve, Score: 80)\n",
      "Student(SNo: 6, Name: Eren, Score: 30)\n"
     ]
    },
    {
     "data": {
      "text/plain": [
       "defined \u001b[32mclass\u001b[39m \u001b[36mStudent\u001b[39m\n",
       "defined \u001b[32mfunction\u001b[39m \u001b[36mtypeConversion\u001b[39m\n",
       "defined \u001b[32mobject\u001b[39m \u001b[36mStudentOps\u001b[39m\n",
       "\u001b[36minitialStudents\u001b[39m: \u001b[32mList\u001b[39m[\u001b[32mStudent\u001b[39m] = \u001b[33mList\u001b[39m(\n",
       "  \u001b[33mStudent\u001b[39m(sno = \u001b[32m1\u001b[39m, name = \u001b[32m\"Alice\"\u001b[39m, score = \u001b[32m71\u001b[39m),\n",
       "  \u001b[33mStudent\u001b[39m(sno = \u001b[32m2\u001b[39m, name = \u001b[32m\"Bob\"\u001b[39m, score = \u001b[32m75\u001b[39m),\n",
       "  \u001b[33mStudent\u001b[39m(sno = \u001b[32m3\u001b[39m, name = \u001b[32m\"Charlie\"\u001b[39m, score = \u001b[32m55\u001b[39m),\n",
       "  \u001b[33mStudent\u001b[39m(sno = \u001b[32m4\u001b[39m, name = \u001b[32m\"David\"\u001b[39m, score = \u001b[32m45\u001b[39m)\n",
       ")"
      ]
     },
     "execution_count": 1,
     "metadata": {},
     "output_type": "execute_result"
    }
   ],
   "source": [
    "case class Student(sno: Int, name: String, score: Int) {\n",
    "  override def toString: String = {\n",
    "    s\"Student(SNo: $sno, Name: $name, Score: $score)\"\n",
    "  }\n",
    "}\n",
    "\n",
    "implicit def typeConversion(tuple: (Int, String, Int)): Student = {\n",
    "  Student(tuple._1, tuple._2, tuple._3)\n",
    "}\n",
    "\n",
    "object StudentOps {\n",
    "  private var students: List[Student] = List()\n",
    "\n",
    "  def add(newStudentTuple: (Int, String, Int)): Unit = {\n",
    "    val newStudent = typeConversion(newStudentTuple)\n",
    "    students :+= newStudent\n",
    "  }\n",
    "\n",
    "  def printStudents(): Unit = {\n",
    "    println(\"List of Students:\")\n",
    "    students.foreach(println)\n",
    "  }\n",
    "}\n",
    "\n",
    "val initialStudents = List(\n",
    "  Student(1, \"Alice\", 71),\n",
    "  Student(2, \"Bob\", 75),\n",
    "  Student(3, \"Charlie\", 55),\n",
    "  Student(4, \"David\", 45)\n",
    ")\n",
    "\n",
    "initialStudents.foreach(student => StudentOps.add((student.sno, student.name, student.score)))\n",
    "\n",
    "StudentOps.add((5, \"Eve\", 80))\n",
    "StudentOps.add((6, \"Eren\", 30))\n",
    "\n",
    "StudentOps.printStudents()\n"
   ]
  },
  {
   "cell_type": "code",
   "execution_count": 2,
   "metadata": {},
   "outputs": [
    {
     "name": "stderr",
     "output_type": "stream",
     "text": [
      "cmd2.sc:7: implicit conversion method typeConversion should be enabled\n",
      "by making the implicit value scala.language.implicitConversions visible.\n",
      "This can be achieved by adding the import clause 'import scala.language.implicitConversions'\n",
      "or by setting the compiler option -language:implicitConversions.\n",
      "See the Scaladoc for value scala.language.implicitConversions for a discussion\n",
      "why the feature should be explicitly enabled.\n",
      "implicit def typeConversion(tuple: (Int, String, Int)): Student = {\n",
      "             ^\n"
     ]
    },
    {
     "name": "stdout",
     "output_type": "stream",
     "text": [
      "List of Students:\n",
      "Student(SNo: 1, Name: Alice, Score: 71)\n",
      "Student(SNo: 2, Name: Bob, Score: 75)\n",
      "Student(SNo: 3, Name: Charlie, Score: 55)\n",
      "Student(SNo: 4, Name: David, Score: 45)\n",
      "Student(SNo: 5, Name: Eve, Score: 80)\n",
      "Student(SNo: 6, Name: Eren, Score: 30)\n",
      "Student(SNo: 7, Name: Anurag Kurmi, Score: 40)\n"
     ]
    },
    {
     "data": {
      "text/plain": [
       "defined \u001b[32mclass\u001b[39m \u001b[36mStudent\u001b[39m\n",
       "defined \u001b[32mfunction\u001b[39m \u001b[36mtypeConversion\u001b[39m\n",
       "defined \u001b[32mobject\u001b[39m \u001b[36mStudentOps\u001b[39m\n",
       "\u001b[36minitialStudents\u001b[39m: \u001b[32mList\u001b[39m[\u001b[32mStudent\u001b[39m] = \u001b[33mList\u001b[39m(\n",
       "  \u001b[33mStudent\u001b[39m(sno = \u001b[32m1\u001b[39m, name = \u001b[32m\"Alice\"\u001b[39m, score = \u001b[32m71\u001b[39m),\n",
       "  \u001b[33mStudent\u001b[39m(sno = \u001b[32m2\u001b[39m, name = \u001b[32m\"Bob\"\u001b[39m, score = \u001b[32m75\u001b[39m),\n",
       "  \u001b[33mStudent\u001b[39m(sno = \u001b[32m3\u001b[39m, name = \u001b[32m\"Charlie\"\u001b[39m, score = \u001b[32m55\u001b[39m),\n",
       "  \u001b[33mStudent\u001b[39m(sno = \u001b[32m4\u001b[39m, name = \u001b[32m\"David\"\u001b[39m, score = \u001b[32m45\u001b[39m)\n",
       ")"
      ]
     },
     "execution_count": 2,
     "metadata": {},
     "output_type": "execute_result"
    }
   ],
   "source": [
    "case class Student(sno: Int, name: String, score: Int) {\n",
    "  override def toString: String = {\n",
    "    s\"Student(SNo: $sno, Name: $name, Score: $score)\"\n",
    "  }\n",
    "}\n",
    "\n",
    "implicit def typeConversion(tuple: (Int, String, Int)): Student = {\n",
    "  Student(tuple._1, tuple._2, tuple._3)\n",
    "}\n",
    "\n",
    "object StudentOps {\n",
    "  private var students: List[Student] = List()\n",
    "\n",
    "  def add(newStudentTuple: (Int, String, Int)): Unit = {\n",
    "    val newStudent = typeConversion(newStudentTuple)\n",
    "    students :+= newStudent\n",
    "  }\n",
    "\n",
    "  def add(student: Student): Unit = {\n",
    "    students :+= student\n",
    "  }\n",
    "\n",
    "  def printStudents(): Unit = {\n",
    "    println(\"List of Students:\")\n",
    "    students.foreach(println)\n",
    "  }\n",
    "}\n",
    "\n",
    "val initialStudents = List(\n",
    "  Student(1, \"Alice\", 71),\n",
    "  Student(2, \"Bob\", 75),\n",
    "  Student(3, \"Charlie\", 55),\n",
    "  Student(4, \"David\", 45)\n",
    ")\n",
    "\n",
    "initialStudents.foreach(student => StudentOps.add((student.sno, student.name, student.score)))\n",
    "\n",
    "StudentOps.add((5, \"Eve\", 80))\n",
    "StudentOps.add((6, \"Eren\", 30))\n",
    "StudentOps.add(Student(7, \"Anurag Kurmi\", 40))\n",
    "StudentOps.printStudents()\n"
   ]
  }
 ],
 "metadata": {
  "kernelspec": {
   "display_name": "Scala",
   "language": "scala",
   "name": "scala"
  },
  "language_info": {
   "codemirror_mode": "text/x-scala",
   "file_extension": ".sc",
   "mimetype": "text/x-scala",
   "name": "scala",
   "nbconvert_exporter": "script",
   "version": "2.13.14"
  }
 },
 "nbformat": 4,
 "nbformat_minor": 2
}
