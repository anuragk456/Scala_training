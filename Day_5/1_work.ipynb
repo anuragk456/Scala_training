{
 "cells": [
  {
   "cell_type": "markdown",
   "metadata": {},
   "source": [
    "### Constructor OverLoading"
   ]
  },
  {
   "cell_type": "code",
   "execution_count": 5,
   "metadata": {},
   "outputs": [
    {
     "name": "stdout",
     "output_type": "stream",
     "text": [
      "Created Person: Alice, Age: 30\n"
     ]
    },
    {
     "data": {
      "text/plain": [
       "defined \u001b[32mclass\u001b[39m \u001b[36mPerson\u001b[39m\n",
       "\u001b[36mperson\u001b[39m: \u001b[32mPerson\u001b[39m = ammonite.$sess.cmd5$Helper$Person@c682c6c"
      ]
     },
     "execution_count": 5,
     "metadata": {},
     "output_type": "execute_result"
    }
   ],
   "source": [
    "// Scala Default Primary Constructor\n",
    "class Person(val name: String, val age: Int) {\n",
    "  println(s\"Created Person: $name, Age: $age\")\n",
    "}\n",
    "\n",
    "val person = new Person(\"Alice\", 30);\n"
   ]
  },
  {
   "cell_type": "code",
   "execution_count": 6,
   "metadata": {},
   "outputs": [
    {
     "name": "stdout",
     "output_type": "stream",
     "text": [
      "Created Person: Alice, Age: 30\n",
      "Created Person: Bob, Age: 0\n",
      "Created Person with default age: Bob\n",
      "Created Person: ABC, Age: 0\n",
      "Created Person with default age: ABC\n",
      "Created Person with default name and age\n"
     ]
    },
    {
     "data": {
      "text/plain": [
       "defined \u001b[32mclass\u001b[39m \u001b[36mPerson\u001b[39m\n",
       "\u001b[36mperson1\u001b[39m: \u001b[32mPerson\u001b[39m = ammonite.$sess.cmd6$Helper$Person@60bbb2a4\n",
       "\u001b[36mperson2\u001b[39m: \u001b[32mPerson\u001b[39m = ammonite.$sess.cmd6$Helper$Person@4f7ab461\n",
       "\u001b[36mperson3\u001b[39m: \u001b[32mPerson\u001b[39m = ammonite.$sess.cmd6$Helper$Person@26cff0e9"
      ]
     },
     "execution_count": 6,
     "metadata": {},
     "output_type": "execute_result"
    }
   ],
   "source": [
    "// Auxiliary constructor\n",
    "\n",
    "class Person(val name: String, val age: Int) {\n",
    "  println(s\"Created Person: $name, Age: $age\");\n",
    "  \n",
    "  def this(name: String) = {\n",
    "    this(name,0);\n",
    "    println(s\"Created Person with default age: $name\")\n",
    "  }\n",
    "\n",
    "  def this() = {\n",
    "    this(\"ABC\")\n",
    "    println(\"Created Person with default name and age\")\n",
    "  }\n",
    "}\n",
    "\n",
    "val person1 = new Person(\"Alice\", 30)\n",
    "val person2 = new Person(\"Bob\")\n",
    "val person3 = new Person()"
   ]
  },
  {
   "cell_type": "markdown",
   "metadata": {},
   "source": [
    "### Case Class"
   ]
  },
  {
   "cell_type": "code",
   "execution_count": 3,
   "metadata": {},
   "outputs": [
    {
     "name": "stdout",
     "output_type": "stream",
     "text": [
      "Person(name: Alice, age: 30)\n",
      "true\n"
     ]
    },
    {
     "data": {
      "text/plain": [
       "defined \u001b[32mclass\u001b[39m \u001b[36mPerson\u001b[39m\n",
       "\u001b[36mperson1\u001b[39m: \u001b[32mPerson\u001b[39m = Person(name: Alice, age: 30)\n",
       "\u001b[36mperson2\u001b[39m: \u001b[32mPerson\u001b[39m = Person(name: Alice, age: 30)"
      ]
     },
     "execution_count": 3,
     "metadata": {},
     "output_type": "execute_result"
    }
   ],
   "source": [
    "// Class\n",
    "class Person(val name: String, val age: Int) {\n",
    "  override def toString: String = s\"Person(name: $name, age: $age)\"\n",
    "  \n",
    "  override def equals(other: Any): Boolean = other match {\n",
    "    case that: Person => this.name == that.name && this.age == that.age\n",
    "    case _ => false\n",
    "  }\n",
    "  \n",
    "  override def hashCode(): Int = (name, age).hashCode()\n",
    "}\n",
    "\n",
    "val person1 = new Person(\"Alice\", 30)\n",
    "val person2 = new Person(\"Alice\", 30)\n",
    "\n",
    "println(person1)              \n",
    "println(person1 == person2)  \n"
   ]
  },
  {
   "cell_type": "code",
   "execution_count": 4,
   "metadata": {},
   "outputs": [
    {
     "name": "stdout",
     "output_type": "stream",
     "text": [
      "Person(Alice,30)\n",
      "true\n",
      "Name: Alice, Age: 30\n"
     ]
    },
    {
     "data": {
      "text/plain": [
       "defined \u001b[32mclass\u001b[39m \u001b[36mPerson\u001b[39m\n",
       "\u001b[36mperson1\u001b[39m: \u001b[32mPerson\u001b[39m = \u001b[33mPerson\u001b[39m(name = \u001b[32m\"Alice\"\u001b[39m, age = \u001b[32m30\u001b[39m)\n",
       "\u001b[36mperson2\u001b[39m: \u001b[32mPerson\u001b[39m = \u001b[33mPerson\u001b[39m(name = \u001b[32m\"Alice\"\u001b[39m, age = \u001b[32m30\u001b[39m)"
      ]
     },
     "execution_count": 4,
     "metadata": {},
     "output_type": "execute_result"
    }
   ],
   "source": [
    "// Case Class\n",
    "case class Person(name: String, age: Int)\n",
    "\n",
    "val person1 = Person(\"Alice\", 30)\n",
    "val person2 = Person(\"Alice\", 30)\n",
    "\n",
    "println(person1)  \n",
    "println(person1 == person2) \n",
    "\n",
    "person1 match {\n",
    "  case Person(name, age) => println(s\"Name: $name, Age: $age\")\n",
    "}\n"
   ]
  },
  {
   "cell_type": "markdown",
   "metadata": {},
   "source": [
    "#### Overiding Method"
   ]
  }
 ],
 "metadata": {
  "kernelspec": {
   "display_name": "Scala",
   "language": "scala",
   "name": "scala"
  },
  "language_info": {
   "codemirror_mode": "text/x-scala",
   "file_extension": ".sc",
   "mimetype": "text/x-scala",
   "name": "scala",
   "nbconvert_exporter": "script",
   "version": "2.13.14"
  }
 },
 "nbformat": 4,
 "nbformat_minor": 2
}
