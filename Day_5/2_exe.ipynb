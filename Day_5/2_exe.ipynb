{
 "cells": [
  {
   "cell_type": "code",
   "execution_count": 1,
   "metadata": {},
   "outputs": [
    {
     "name": "stderr",
     "output_type": "stream",
     "text": [
      "cmd1.sc:7: implicit conversion method typeConversion should be enabled\n",
      "by making the implicit value scala.language.implicitConversions visible.\n",
      "This can be achieved by adding the import clause 'import scala.language.implicitConversions'\n",
      "or by setting the compiler option -language:implicitConversions.\n",
      "See the Scaladoc for value scala.language.implicitConversions for a discussion\n",
      "why the feature should be explicitly enabled.\n",
      "implicit def typeConversion(tuple: (Int, String, Int)): Student = {\n",
      "             ^\n"
     ]
    },
    {
     "name": "stdout",
     "output_type": "stream",
     "text": [
      "Updated list of students:\n",
      "Student(SNo: 1, Name: Alice, Score: 71)\n",
      "Student(SNo: 2, Name: Bob, Score: 75)\n",
      "Student(SNo: 3, Name: Charlie, Score: 55)\n",
      "Student(SNo: 4, Name: David, Score: 45)\n",
      "Student(SNo: 5, Name: Eve, Score: 80)\n",
      "Student(SNo: 6, Name: Eren, Score: 30)\n"
     ]
    },
    {
     "data": {
      "text/plain": [
       "defined \u001b[32mclass\u001b[39m \u001b[36mStudent\u001b[39m\n",
       "defined \u001b[32mfunction\u001b[39m \u001b[36mtypeConversion\u001b[39m\n",
       "\u001b[36mstudents\u001b[39m: \u001b[32mList\u001b[39m[\u001b[32mStudent\u001b[39m] = \u001b[33mList\u001b[39m(\n",
       "  \u001b[33mStudent\u001b[39m(sno = \u001b[32m1\u001b[39m, name = \u001b[32m\"Alice\"\u001b[39m, score = \u001b[32m71\u001b[39m),\n",
       "  \u001b[33mStudent\u001b[39m(sno = \u001b[32m2\u001b[39m, name = \u001b[32m\"Bob\"\u001b[39m, score = \u001b[32m75\u001b[39m),\n",
       "  \u001b[33mStudent\u001b[39m(sno = \u001b[32m3\u001b[39m, name = \u001b[32m\"Charlie\"\u001b[39m, score = \u001b[32m55\u001b[39m),\n",
       "  \u001b[33mStudent\u001b[39m(sno = \u001b[32m4\u001b[39m, name = \u001b[32m\"David\"\u001b[39m, score = \u001b[32m45\u001b[39m)\n",
       ")\n",
       "\u001b[36ms1\u001b[39m: (\u001b[32mInt\u001b[39m, \u001b[32mString\u001b[39m, \u001b[32mInt\u001b[39m) = (\u001b[32m5\u001b[39m, \u001b[32m\"Eve\"\u001b[39m, \u001b[32m80\u001b[39m)\n",
       "\u001b[36ms2\u001b[39m: (\u001b[32mInt\u001b[39m, \u001b[32mString\u001b[39m, \u001b[32mInt\u001b[39m) = (\u001b[32m6\u001b[39m, \u001b[32m\"Eren\"\u001b[39m, \u001b[32m30\u001b[39m)\n",
       "\u001b[36mnewS1\u001b[39m: \u001b[32mStudent\u001b[39m = \u001b[33mStudent\u001b[39m(sno = \u001b[32m5\u001b[39m, name = \u001b[32m\"Eve\"\u001b[39m, score = \u001b[32m80\u001b[39m)\n",
       "\u001b[36mnewS2\u001b[39m: \u001b[32mStudent\u001b[39m = \u001b[33mStudent\u001b[39m(sno = \u001b[32m6\u001b[39m, name = \u001b[32m\"Eren\"\u001b[39m, score = \u001b[32m30\u001b[39m)\n",
       "\u001b[36mstudentList\u001b[39m: \u001b[32mList\u001b[39m[\u001b[32mStudent\u001b[39m] = \u001b[33mList\u001b[39m(\n",
       "  \u001b[33mStudent\u001b[39m(sno = \u001b[32m1\u001b[39m, name = \u001b[32m\"Alice\"\u001b[39m, score = \u001b[32m71\u001b[39m),\n",
       "  \u001b[33mStudent\u001b[39m(sno = \u001b[32m2\u001b[39m, name = \u001b[32m\"Bob\"\u001b[39m, score = \u001b[32m75\u001b[39m),\n",
       "  \u001b[33mStudent\u001b[39m(sno = \u001b[32m3\u001b[39m, name = \u001b[32m\"Charlie\"\u001b[39m, score = \u001b[32m55\u001b[39m),\n",
       "  \u001b[33mStudent\u001b[39m(sno = \u001b[32m4\u001b[39m, name = \u001b[32m\"David\"\u001b[39m, score = \u001b[32m45\u001b[39m),\n",
       "  \u001b[33mStudent\u001b[39m(sno = \u001b[32m5\u001b[39m, name = \u001b[32m\"Eve\"\u001b[39m, score = \u001b[32m80\u001b[39m),\n",
       "  \u001b[33mStudent\u001b[39m(sno = \u001b[32m6\u001b[39m, name = \u001b[32m\"Eren\"\u001b[39m, score = \u001b[32m30\u001b[39m)\n",
       ")"
      ]
     },
     "execution_count": 1,
     "metadata": {},
     "output_type": "execute_result"
    }
   ],
   "source": [
    "case class Student(sno: Int, name: String, score: Int) {\n",
    "  override def toString: String = {\n",
    "    s\"Student(SNo: $sno, Name: $name, Score: $score)\"\n",
    "  }\n",
    "}\n",
    "\n",
    "implicit def typeConversion(tuple: (Int, String, Int)): Student = {\n",
    "  Student(tuple._1, tuple._2, tuple._3)\n",
    "}\n",
    "\n",
    "val students = List(\n",
    "  Student(1, \"Alice\", 71),\n",
    "  Student(2, \"Bob\", 75),\n",
    "  Student(3, \"Charlie\", 55),\n",
    "  Student(4, \"David\", 45)\n",
    ")\n",
    "\n",
    "// for(x <- students){\n",
    "//   println(x);\n",
    "// }\n",
    "\n",
    "\n",
    "val s1 = (5, \"Eve\", 80);\n",
    "val s2 = (6, \"Eren\", 30);\n",
    "val newS1: Student = typeConversion(s1);\n",
    "val newS2: Student = typeConversion(s2);\n",
    "\n",
    "val studentList = students :+ newS1 :+ newS2;\n",
    "\n",
    "println(\"Updated list of students:\")\n",
    "for (x <- studentList) {\n",
    "  println(x)\n",
    "}"
   ]
  }
 ],
 "metadata": {
  "kernelspec": {
   "display_name": "Scala",
   "language": "scala",
   "name": "scala"
  },
  "language_info": {
   "codemirror_mode": "text/x-scala",
   "file_extension": ".sc",
   "mimetype": "text/x-scala",
   "name": "scala",
   "nbconvert_exporter": "script",
   "version": "2.13.14"
  }
 },
 "nbformat": 4,
 "nbformat_minor": 2
}
