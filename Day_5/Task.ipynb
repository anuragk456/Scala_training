{
 "cells": [
  {
   "cell_type": "markdown",
   "metadata": {},
   "source": [
    "### Construct tree using Scala\n",
    "\n",
    "```\n",
    "Question 5:\n",
    "\n",
    "Create an application\n",
    "that asks you to enter (sno,name,city,department)\n",
    "and add the the tuple record in the appropriate deparment \n",
    "and print the organization tree\n",
    "Create a tree data structure of your own\n",
    " Note: Do not use map or any other collection\n",
    "\n",
    " and for representing (sno,name,city) use tuple \n",
    " and the application must be interactive\n",
    " need to stop when you say exit\n",
    " \n",
    "Organization\n",
    "└── Finance\n",
    "    ├── Payments\n",
    "    │   ├── (1,Ravi,Chennai)\n",
    "    │   ├── (2,Ram,Chennai)\n",
    "    │   \n",
    "    │  \n",
    "    │   \n",
    "    │   \n",
    "    │   \n",
    "    └── Sales\n",
    "        ├── Marketing\n",
    "        │   ├── (3,\"Rohan\",\"Kolkata\")\n",
    "        │   ├── (4,\"RAkesh\",\"Mumbai\")\n",
    "        │ \n",
    "        ├── (5,Ravi,Mumbai)\n",
    "        ├\n",
    "        ├── Advertisements\n",
    "        │   ├── (6,Ricky,Chennai)\n",
    "        │   \n",
    "        │ \n",
    "        │  \n",
    "        └── SalesManagement\n",
    "\n",
    "```"
   ]
  }
 ],
 "metadata": {
  "language_info": {
   "name": "python"
  }
 },
 "nbformat": 4,
 "nbformat_minor": 2
}
