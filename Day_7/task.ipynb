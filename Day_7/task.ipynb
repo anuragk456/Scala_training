{
 "cells": [
  {
   "cell_type": "markdown",
   "metadata": {},
   "source": [
    "### Task\n",
    "\n",
    "1) Create a class job runner and then want the automatically codeBlock will run after n times.\n",
    "2) Create A function that returns a Future[String]. The function name is RandomNumberThreadExecutor that function should have a promise created and return associated future. In the function  create three  threads where each thread has a logic to generate a random number. first thread name is firstThread. second thread name is secondThread. third thread name is thirdThread.all three threads runs infinetly. whenever any of the thread gets 1567 as the random number.it should resolve the promise by using success with. the message threadname+ \" has generated \" + 1567.it should stop and it should also notify (find a mechanism). other threads to stop.the main thread should wait for the future to be. complete and print the message."
   ]
  },
  {
   "cell_type": "code",
   "execution_count": null,
   "metadata": {},
   "outputs": [
    {
     "name": "stdout",
     "output_type": "stream",
     "text": [
      "Job Details: Anurag kurmi is coming in Time: 5 seconds\n",
      "The job action is being executed!\n"
     ]
    },
    {
     "data": {
      "text/plain": [
       "defined \u001b[32mclass\u001b[39m \u001b[36mJobRunner\u001b[39m\n",
       "\u001b[36mjobRunner\u001b[39m: \u001b[32mJobRunner\u001b[39m = ammonite.$sess.cmd4$Helper$JobRunner@4fb7cda7"
      ]
     },
     "execution_count": 4,
     "metadata": {},
     "output_type": "execute_result"
    }
   ],
   "source": [
    "class JobRunner(str: String, time: Int, codeBlock: () => Unit) {\n",
    "  runJob(codeBlock);\n",
    "  def runJob(codeBlock: () => Unit): Unit = {\n",
    "    println(s\"Job Details: $str Time: $time seconds\");\n",
    "    Thread.sleep(time * 1000);\n",
    "    codeBlock();\n",
    "  }\n",
    "}\n",
    "\n",
    "val jobRunner = new JobRunner(\"Anurag kurmi is coming in\", 5, () => {\n",
    "  println(\"The job action is being executed!\");\n",
    "})\n"
   ]
  }
 ],
 "metadata": {
  "kernelspec": {
   "display_name": "Scala",
   "language": "scala",
   "name": "scala"
  },
  "language_info": {
   "codemirror_mode": "text/x-scala",
   "file_extension": ".sc",
   "mimetype": "text/x-scala",
   "name": "scala",
   "nbconvert_exporter": "script",
   "version": "2.13.14"
  }
 },
 "nbformat": 4,
 "nbformat_minor": 2
}
