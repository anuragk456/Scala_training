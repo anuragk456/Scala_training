{
 "cells": [
  {
   "cell_type": "markdown",
   "metadata": {},
   "source": [
    "### Classes and Objects"
   ]
  },
  {
   "cell_type": "code",
   "execution_count": 18,
   "metadata": {},
   "outputs": [
    {
     "name": "stdout",
     "output_type": "stream",
     "text": [
      "Created ABC: Anurag Kurmi, Age: 30\n",
      "Name: Anurag Kurmi - Age: 30\n"
     ]
    },
    {
     "data": {
      "text/plain": [
       "defined \u001b[32mclass\u001b[39m \u001b[36mABC\u001b[39m\n",
       "\u001b[36ma\u001b[39m: \u001b[32mABC\u001b[39m = ammonite.$sess.cmd18$Helper$ABC@59cd6188"
      ]
     },
     "execution_count": 18,
     "metadata": {},
     "output_type": "execute_result"
    }
   ],
   "source": [
    "// Class\n",
    "class ABC(val name: String, var age: Int) {\n",
    "  println(s\"Created ABC: $name, Age: $age\")\n",
    "  \n",
    "  def printName(): Unit = {\n",
    "    println(s\"Name: $name - Age: $age\")\n",
    "  }\n",
    "}\n",
    "\n",
    "val a = new ABC(\"Anurag Kurmi\", 30)\n",
    "a.printName()\n"
   ]
  },
  {
   "cell_type": "code",
   "execution_count": 19,
   "metadata": {},
   "outputs": [
    {
     "name": "stdout",
     "output_type": "stream",
     "text": [
      "Name: Anurag Kurmi - Age: 30\n"
     ]
    },
    {
     "data": {
      "text/plain": [
       "defined \u001b[32mclass\u001b[39m \u001b[36mABC\u001b[39m\n",
       "\u001b[36ma\u001b[39m: \u001b[32mABC\u001b[39m = ammonite.$sess.cmd19$Helper$ABC@b72ace1"
      ]
     },
     "execution_count": 19,
     "metadata": {},
     "output_type": "execute_result"
    }
   ],
   "source": [
    "// Class with constructor and default parameters\n",
    "class ABC(val name: String = \"Anurag Kurmi\", val age: Int = 30) {\n",
    "  def printName(): Unit = {\n",
    "    println(s\"Name: $name - Age: $age\")\n",
    "  }\n",
    "}\n",
    "\n",
    "val a = new ABC()\n",
    "a.printName()\n"
   ]
  },
  {
   "cell_type": "code",
   "execution_count": 13,
   "metadata": {},
   "outputs": [
    {
     "name": "stdout",
     "output_type": "stream",
     "text": [
      "Created Person: Alice, Age: 30\n"
     ]
    },
    {
     "data": {
      "text/plain": [
       "defined \u001b[32mclass\u001b[39m \u001b[36mPerson\u001b[39m\n",
       "\u001b[36mperson\u001b[39m: \u001b[32mPerson\u001b[39m = ammonite.$sess.cmd13$Helper$Person@5d90357b"
      ]
     },
     "execution_count": 13,
     "metadata": {},
     "output_type": "execute_result"
    }
   ],
   "source": [
    "// Scala Default Primary Constructor\n",
    "class Person(val name: String, val age: Int) {\n",
    "  println(s\"Created Person: $name, Age: $age\")\n",
    "}\n",
    "\n",
    "val person = new Person(\"Alice\", 30);\n"
   ]
  },
  {
   "cell_type": "code",
   "execution_count": 14,
   "metadata": {},
   "outputs": [
    {
     "name": "stdout",
     "output_type": "stream",
     "text": [
      "Created Person: Alice, Age: 30\n",
      "Created Person: Bob, Age: 0\n",
      "Created Person with default age: Bob\n",
      "Created Person: ABC, Age: 0\n",
      "Created Person with default age: ABC\n",
      "Created Person with default name and age\n"
     ]
    },
    {
     "data": {
      "text/plain": [
       "defined \u001b[32mclass\u001b[39m \u001b[36mPerson\u001b[39m\n",
       "\u001b[36mperson1\u001b[39m: \u001b[32mPerson\u001b[39m = ammonite.$sess.cmd14$Helper$Person@2f1c4b6\n",
       "\u001b[36mperson2\u001b[39m: \u001b[32mPerson\u001b[39m = ammonite.$sess.cmd14$Helper$Person@206fb485\n",
       "\u001b[36mperson3\u001b[39m: \u001b[32mPerson\u001b[39m = ammonite.$sess.cmd14$Helper$Person@a6ff29d"
      ]
     },
     "execution_count": 14,
     "metadata": {},
     "output_type": "execute_result"
    }
   ],
   "source": [
    "// Auxiliary constructor\n",
    "\n",
    "class Person(val name: String, val age: Int) {\n",
    "  println(s\"Created Person: $name, Age: $age\");\n",
    "  \n",
    "  def this(name: String) = {\n",
    "    this(name,0);\n",
    "    println(s\"Created Person with default age: $name\")\n",
    "  }\n",
    "\n",
    "  def this() = {\n",
    "    this(\"ABC\")\n",
    "    println(\"Created Person with default name and age\")\n",
    "  }\n",
    "}\n",
    "\n",
    "val person1 = new Person(\"Alice\", 30)\n",
    "val person2 = new Person(\"Bob\")\n",
    "val person3 = new Person()"
   ]
  },
  {
   "cell_type": "code",
   "execution_count": 15,
   "metadata": {},
   "outputs": [
    {
     "name": "stdout",
     "output_type": "stream",
     "text": [
      "Created Person: Anurag, Age: 24\n",
      "Created Person with default name and age\n"
     ]
    },
    {
     "data": {
      "text/plain": [
       "defined \u001b[32mclass\u001b[39m \u001b[36mPerson\u001b[39m\n",
       "\u001b[36mperson\u001b[39m: \u001b[32mPerson\u001b[39m = ammonite.$sess.cmd15$Helper$Person@31419f7c"
      ]
     },
     "execution_count": 15,
     "metadata": {},
     "output_type": "execute_result"
    }
   ],
   "source": [
    "// Auxiliary constructor\n",
    "\n",
    "class Person(val name: String, val age: Int) {\n",
    "  println(s\"Created Person: $name, Age: $age\");\n",
    "  \n",
    "\n",
    "  def this() = {\n",
    "    this(\"Anurag\",24);\n",
    "    println(\"Created Person with default name and age\")\n",
    "  }\n",
    "}\n",
    "\n",
    "val person = new Person()"
   ]
  },
  {
   "cell_type": "code",
   "execution_count": 16,
   "metadata": {},
   "outputs": [
    {
     "name": "stdout",
     "output_type": "stream",
     "text": [
      "Person(name: Alice, age: 30)\n",
      "true\n"
     ]
    },
    {
     "data": {
      "text/plain": [
       "defined \u001b[32mclass\u001b[39m \u001b[36mPerson\u001b[39m\n",
       "\u001b[36mperson1\u001b[39m: \u001b[32mPerson\u001b[39m = Person(name: Alice, age: 30)\n",
       "\u001b[36mperson2\u001b[39m: \u001b[32mPerson\u001b[39m = Person(name: Alice, age: 30)"
      ]
     },
     "execution_count": 16,
     "metadata": {},
     "output_type": "execute_result"
    }
   ],
   "source": [
    "// Class\n",
    "class Person(val name: String, val age: Int) {\n",
    "  override def toString: String = s\"Person(name: $name, age: $age)\"\n",
    "  \n",
    "  override def equals(other: Any): Boolean = other match {\n",
    "    case that: Person => this.name == that.name && this.age == that.age\n",
    "    case _ => false\n",
    "  }\n",
    "  \n",
    "  override def hashCode(): Int = (name, age).hashCode()\n",
    "}\n",
    "\n",
    "val person1 = new Person(\"Alice\", 30)\n",
    "val person2 = new Person(\"Alice\", 30)\n",
    "\n",
    "println(person1)              \n",
    "println(person1 == person2)  \n"
   ]
  },
  {
   "cell_type": "code",
   "execution_count": 17,
   "metadata": {},
   "outputs": [
    {
     "name": "stdout",
     "output_type": "stream",
     "text": [
      "Person(Alice,30)\n",
      "true\n",
      "Name: Alice, Age: 30\n"
     ]
    },
    {
     "data": {
      "text/plain": [
       "defined \u001b[32mclass\u001b[39m \u001b[36mPerson\u001b[39m\n",
       "\u001b[36mperson1\u001b[39m: \u001b[32mPerson\u001b[39m = \u001b[33mPerson\u001b[39m(name = \u001b[32m\"Alice\"\u001b[39m, age = \u001b[32m30\u001b[39m)\n",
       "\u001b[36mperson2\u001b[39m: \u001b[32mPerson\u001b[39m = \u001b[33mPerson\u001b[39m(name = \u001b[32m\"Alice\"\u001b[39m, age = \u001b[32m30\u001b[39m)"
      ]
     },
     "execution_count": 17,
     "metadata": {},
     "output_type": "execute_result"
    }
   ],
   "source": [
    "// Case Class\n",
    "case class Person(name: String, age: Int)\n",
    "\n",
    "val person1 = Person(\"Alice\", 30)\n",
    "val person2 = Person(\"Alice\", 30)\n",
    "\n",
    "println(person1)  \n",
    "println(person1 == person2) \n",
    "\n",
    "person1 match {\n",
    "  case Person(name, age) => println(s\"Name: $name, Age: $age\")\n",
    "}\n"
   ]
  },
  {
   "cell_type": "markdown",
   "metadata": {},
   "source": [
    "### Encapsulation in Scala"
   ]
  },
  {
   "cell_type": "code",
   "execution_count": 20,
   "metadata": {},
   "outputs": [
    {
     "name": "stdout",
     "output_type": "stream",
     "text": [
      "Anurag Kurmi\n",
      "30\n"
     ]
    },
    {
     "data": {
      "text/plain": [
       "defined \u001b[32mclass\u001b[39m \u001b[36mPerson\u001b[39m\n",
       "\u001b[36mperson\u001b[39m: \u001b[32mPerson\u001b[39m = ammonite.$sess.cmd20$Helper$Person@7b096edb"
      ]
     },
     "execution_count": 20,
     "metadata": {},
     "output_type": "execute_result"
    }
   ],
   "source": [
    "class Person(private var name: String, private var age: Int) {\n",
    "  def getName: String = name;\n",
    "  \n",
    "  def setName(newName: String): Unit = {\n",
    "    name = newName;\n",
    "  }\n",
    "\n",
    "  def getAge: Int = age;\n",
    "\n",
    "  def setAge(newAge: Int): Unit = {\n",
    "    if (newAge > 0) age = newAge;\n",
    "  }\n",
    "}\n",
    "\n",
    "val person = new Person(\"Anurag Kurmi\", 24);\n",
    "println(person.getName);\n",
    "person.setAge(30);\n",
    "println(person.getAge);\n"
   ]
  },
  {
   "cell_type": "code",
   "execution_count": 21,
   "metadata": {},
   "outputs": [
    {
     "name": "stdout",
     "output_type": "stream",
     "text": [
      "Manager ID: 123\n",
      "Salary: 55555.0\n"
     ]
    },
    {
     "data": {
      "text/plain": [
       "defined \u001b[32mclass\u001b[39m \u001b[36mEmployee\u001b[39m\n",
       "defined \u001b[32mclass\u001b[39m \u001b[36mManager\u001b[39m\n",
       "\u001b[36mmanager\u001b[39m: \u001b[32mManager\u001b[39m = ammonite.$sess.cmd21$Helper$Manager@42ca4969"
      ]
     },
     "execution_count": 21,
     "metadata": {},
     "output_type": "execute_result"
    }
   ],
   "source": [
    "class Employee(private var id: Int, protected var salary: Double) {\n",
    "  def getId: Int = id;\n",
    "\n",
    "  def displaySalary(): Unit = {\n",
    "    println(s\"Salary: $salary\");\n",
    "  }\n",
    "}\n",
    "\n",
    "class Manager(id: Int, salary: Double) extends Employee(id, salary) {\n",
    "  def showDetails(): Unit = {\n",
    "    println(s\"Manager ID: $getId\");\n",
    "    displaySalary();\n",
    "  }\n",
    "}\n",
    "\n",
    "val manager = new Manager(123, 55555);\n",
    "manager.showDetails();\n"
   ]
  },
  {
   "cell_type": "code",
   "execution_count": 22,
   "metadata": {},
   "outputs": [
    {
     "name": "stdout",
     "output_type": "stream",
     "text": [
      "Anurag_Kurmi\n",
      "abc@gmail.com\n"
     ]
    },
    {
     "data": {
      "text/plain": [
       "defined \u001b[32mclass\u001b[39m \u001b[36mUser\u001b[39m\n",
       "\u001b[36muser\u001b[39m: \u001b[32mUser\u001b[39m = \u001b[33mUser\u001b[39m(username = \u001b[32m\"Anurag_Kurmi\"\u001b[39m, email = \u001b[32m\"abc@gmail.com\"\u001b[39m)"
      ]
     },
     "execution_count": 22,
     "metadata": {},
     "output_type": "execute_result"
    }
   ],
   "source": [
    "case class User(private var username: String, private var email: String) {\n",
    "  def getUsername: String = username;\n",
    "  def getEmail: String = email;\n",
    "}\n",
    "\n",
    "val user = User(\"Anurag_Kurmi\", \"abc@gmail.com\");\n",
    "println(user.getUsername);\n",
    "println(user.getEmail);\n"
   ]
  },
  {
   "cell_type": "code",
   "execution_count": 24,
   "metadata": {},
   "outputs": [
    {
     "name": "stdout",
     "output_type": "stream",
     "text": [
      "150.0\n"
     ]
    },
    {
     "data": {
      "text/plain": [
       "defined \u001b[32mclass\u001b[39m \u001b[36mProduct\u001b[39m\n",
       "\u001b[36mproduct\u001b[39m: \u001b[32mProduct\u001b[39m = ammonite.$sess.cmd24$Helper$Product@1ffc20ca"
      ]
     },
     "execution_count": 24,
     "metadata": {},
     "output_type": "execute_result"
    }
   ],
   "source": [
    "class Product(private var price: Double){\n",
    "  require(price > 0, \"Price must be positive\")\n",
    "\n",
    "  def setPrice(newPrice: Double): Unit = {\n",
    "    require(newPrice > 0, \"Price must be positive\")\n",
    "    price = newPrice\n",
    "  }\n",
    "\n",
    "  def getPrice: Double = price\n",
    "}\n",
    "\n",
    "val product = new Product(100);\n",
    "product.setPrice(150);\n",
    "println(product.getPrice);\n"
   ]
  }
 ],
 "metadata": {
  "kernelspec": {
   "display_name": "Scala",
   "language": "scala",
   "name": "scala"
  },
  "language_info": {
   "codemirror_mode": "text/x-scala",
   "file_extension": ".sc",
   "mimetype": "text/x-scala",
   "name": "scala",
   "nbconvert_exporter": "script",
   "version": "2.13.14"
  }
 },
 "nbformat": 4,
 "nbformat_minor": 2
}
