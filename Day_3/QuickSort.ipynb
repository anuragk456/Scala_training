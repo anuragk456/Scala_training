{
 "cells": [
  {
   "cell_type": "markdown",
   "metadata": {},
   "source": [
    "### Quick Sort"
   ]
  },
  {
   "cell_type": "code",
   "execution_count": 2,
   "metadata": {},
   "outputs": [
    {
     "name": "stdout",
     "output_type": "stream",
     "text": [
      "0 -> 1 -> 2 -> 3 -> 4 -> 5 -> 7 -> 8 -> 9 -> "
     ]
    },
    {
     "data": {
      "text/plain": [
       "defined \u001b[32mfunction\u001b[39m \u001b[36mquickSort\u001b[39m\n",
       "defined \u001b[32mfunction\u001b[39m \u001b[36mpartition\u001b[39m\n",
       "\u001b[36marr\u001b[39m: \u001b[32mArray\u001b[39m[\u001b[32mInt\u001b[39m] = \u001b[33mArray\u001b[39m(\u001b[32m0\u001b[39m, \u001b[32m1\u001b[39m, \u001b[32m2\u001b[39m, \u001b[32m3\u001b[39m, \u001b[32m4\u001b[39m, \u001b[32m5\u001b[39m, \u001b[32m7\u001b[39m, \u001b[32m8\u001b[39m, \u001b[32m9\u001b[39m)"
      ]
     },
     "execution_count": 2,
     "metadata": {},
     "output_type": "execute_result"
    }
   ],
   "source": [
    "def quickSort(arr: Array[Int], s: Int, e: Int): Unit = {\n",
    "    if(s<e){\n",
    "        var p = partition(arr,s,e);\n",
    "        quickSort(arr,s,p-1);\n",
    "        quickSort(arr,p+1,e);\n",
    "    }\n",
    "}\n",
    "\n",
    "def partition(arr: Array[Int], s: Int, e: Int): Int = {\n",
    "    val pivot = arr(e);\n",
    "    var i = (s-1);\n",
    "\n",
    "    for(j <- s until e){\n",
    "        if(arr(j)< pivot){\n",
    "            i+=1;\n",
    "            var temp = arr(i);\n",
    "            arr(i) = arr(j);\n",
    "            arr(j) = temp;\n",
    "        }\n",
    "    }\n",
    "    var temp = arr(i+1);\n",
    "    arr(i+1) = arr(e);\n",
    "    arr(e) = temp;\n",
    "    i+1;\n",
    "}\n",
    "\n",
    "val arr = Array(4,3,2,1,5,8,7,9,0);\n",
    "quickSort(arr, 0, arr.length-1);\n",
    "\n",
    "for(i <- arr){\n",
    "    print(s\"$i -> \");\n",
    "}"
   ]
  }
 ],
 "metadata": {
  "kernelspec": {
   "display_name": "Scala",
   "language": "scala",
   "name": "scala"
  },
  "language_info": {
   "codemirror_mode": "text/x-scala",
   "file_extension": ".sc",
   "mimetype": "text/x-scala",
   "name": "scala",
   "nbconvert_exporter": "script",
   "version": "2.13.14"
  }
 },
 "nbformat": 4,
 "nbformat_minor": 2
}
