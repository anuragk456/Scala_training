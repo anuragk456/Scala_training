{
 "cells": [
  {
   "cell_type": "markdown",
   "metadata": {},
   "source": [
    "### Heap Sort"
   ]
  },
  {
   "cell_type": "code",
   "execution_count": 1,
   "metadata": {},
   "outputs": [
    {
     "name": "stdout",
     "output_type": "stream",
     "text": [
      "0 -> 1 -> 2 -> 3 -> 5 -> 7 -> 8 -> 9 -> 4 -> "
     ]
    },
    {
     "data": {
      "text/plain": [
       "defined \u001b[32mfunction\u001b[39m \u001b[36mheapify\u001b[39m\n",
       "defined \u001b[32mfunction\u001b[39m \u001b[36mheapSort\u001b[39m\n",
       "\u001b[36marr\u001b[39m: \u001b[32mArray\u001b[39m[\u001b[32mInt\u001b[39m] = \u001b[33mArray\u001b[39m(\u001b[32m0\u001b[39m, \u001b[32m1\u001b[39m, \u001b[32m2\u001b[39m, \u001b[32m3\u001b[39m, \u001b[32m5\u001b[39m, \u001b[32m7\u001b[39m, \u001b[32m8\u001b[39m, \u001b[32m9\u001b[39m, \u001b[32m4\u001b[39m)"
      ]
     },
     "execution_count": 1,
     "metadata": {},
     "output_type": "execute_result"
    }
   ],
   "source": [
    "def heapify(arr: Array[Int], n:Int, i:Int): Unit = {\n",
    "    var largest = i;\n",
    "    val l = 2*i + 1;\n",
    "    val r = 2*i + 2;\n",
    "\n",
    "    if(l<n && arr(l)>arr(largest)){\n",
    "        largest = l;\n",
    "    }\n",
    "\n",
    "    if(r<n && arr(r)>arr(largest)){\n",
    "        largest = r;\n",
    "    }\n",
    "\n",
    "    if(largest!=i){\n",
    "        val temp = arr(i);\n",
    "        arr(i) = arr(largest);\n",
    "        arr(largest) = temp;\n",
    "        heapify(arr,n,largest);\n",
    "    }\n",
    "}\n",
    "\n",
    "def heapSort(arr: Array[Int]):Unit = {\n",
    "    val n = arr.length;\n",
    "\n",
    "    for(i <- n/2-1 until (0,-1)){\n",
    "        heapify(arr,n,i);\n",
    "    }\n",
    "\n",
    "    for(i <- n-1 until (0,-1)){\n",
    "        val temp = arr(0);\n",
    "        arr(0) = arr(i);\n",
    "        arr(i) = temp;\n",
    "        heapify(arr, i, 0);\n",
    "    }\n",
    "}\n",
    "\n",
    "\n",
    "val arr = Array(4,3,2,1,5,8,7,9,0);\n",
    "heapSort(arr);\n",
    "\n",
    "for(i <- arr){\n",
    "    print(s\"$i -> \");\n",
    "}"
   ]
  }
 ],
 "metadata": {
  "kernelspec": {
   "display_name": "Scala",
   "language": "scala",
   "name": "scala"
  },
  "language_info": {
   "codemirror_mode": "text/x-scala",
   "file_extension": ".sc",
   "mimetype": "text/x-scala",
   "name": "scala",
   "nbconvert_exporter": "script",
   "version": "2.13.14"
  }
 },
 "nbformat": 4,
 "nbformat_minor": 2
}
