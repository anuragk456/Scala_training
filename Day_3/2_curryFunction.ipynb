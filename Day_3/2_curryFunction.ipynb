{
 "cells": [
  {
   "cell_type": "markdown",
   "metadata": {},
   "source": [
    "### Curry function"
   ]
  },
  {
   "cell_type": "code",
   "execution_count": 3,
   "metadata": {},
   "outputs": [
    {
     "name": "stdout",
     "output_type": "stream",
     "text": [
      "for for Pizza --- Olives --- Olives\n"
     ]
    },
    {
     "data": {
      "text/plain": [
       "defined \u001b[32mfunction\u001b[39m \u001b[36mf1\u001b[39m\n",
       "defined \u001b[32mfunction\u001b[39m \u001b[36mf2\u001b[39m\n",
       "\u001b[36mres\u001b[39m: (\u001b[32mString\u001b[39m, \u001b[32mString\u001b[39m) => \u001b[32mString\u001b[39m = ammonite.$sess.cmd3$Helper$$Lambda/0x00000070018dd2f0@2de8036\n",
       "\u001b[36mresult\u001b[39m: \u001b[32mString\u001b[39m = \u001b[32m\"for for Pizza --- Olives --- Olives\"\u001b[39m"
      ]
     },
     "execution_count": 3,
     "metadata": {},
     "output_type": "execute_result"
    }
   ],
   "source": [
    "def f1(abc: String, topping: String): String = s\"for ${abc} --- ${topping}\"\n",
    "def f2(abc: String, topping: String): String = s\"for ${abc} --- ${topping}\"\n",
    "\n",
    "val res = (abc: String, topping: String) => f1(f2(abc, topping), topping)\n",
    "\n",
    "val result = res(\"Pizza\", \"Olives\")\n",
    "\n",
    "\n",
    "println(result) \n"
   ]
  },
  {
   "cell_type": "code",
   "execution_count": 5,
   "metadata": {},
   "outputs": [
    {
     "name": "stdout",
     "output_type": "stream",
     "text": [
      "for for Pizza --- Olives --- Olives\n"
     ]
    },
    {
     "data": {
      "text/plain": [
       "\u001b[36mf1\u001b[39m: (\u001b[32mString\u001b[39m, \u001b[32mString\u001b[39m) => \u001b[32mString\u001b[39m = ammonite.$sess.cmd5$Helper$$Lambda/0x00000070019283f8@3ae01062\n",
       "\u001b[36mf2\u001b[39m: (\u001b[32mString\u001b[39m, \u001b[32mString\u001b[39m) => \u001b[32mString\u001b[39m = ammonite.$sess.cmd5$Helper$$Lambda/0x0000007001928990@552c42de\n",
       "\u001b[36mres\u001b[39m: \u001b[32mString\u001b[39m = \u001b[32m\"for Pizza --- Olives\"\u001b[39m\n",
       "\u001b[36mresult\u001b[39m: \u001b[32mString\u001b[39m = \u001b[32m\"for for Pizza --- Olives --- Olives\"\u001b[39m"
      ]
     },
     "execution_count": 5,
     "metadata": {},
     "output_type": "execute_result"
    }
   ],
   "source": [
    "val f1: (String, String) => String = (abc: String, topping: String) => s\"for ${abc} --- ${topping}\"\n",
    "val f2: (String, String) => String = (abc: String, topping: String) => s\"for ${abc} --- ${topping}\"\n",
    "\n",
    "val res = f1(\"Pizza\", \"Olives\")\n",
    "val result = f2(res, \"Olives\") \n",
    "\n",
    "println(result)\n"
   ]
  },
  {
   "cell_type": "code",
   "execution_count": 7,
   "metadata": {},
   "outputs": [
    {
     "name": "stdout",
     "output_type": "stream",
     "text": [
      " Anurag  --->   A <---  ----> B <------"
     ]
    },
    {
     "data": {
      "text/plain": [
       "\u001b[36ma\u001b[39m: \u001b[32mString\u001b[39m => \u001b[32mString\u001b[39m = ammonite.$sess.cmd7$Helper$$Lambda/0x00000070018ecf10@194b20d0\n",
       "\u001b[36mb\u001b[39m: \u001b[32mString\u001b[39m => \u001b[32mString\u001b[39m = ammonite.$sess.cmd7$Helper$$Lambda/0x00000070018ed2c8@65426fb0\n",
       "\u001b[36mres\u001b[39m: \u001b[32mString\u001b[39m => \u001b[32mString\u001b[39m = scala.Function1$$Lambda/0x00000070017e2d18@5c1786c6"
      ]
     },
     "execution_count": 7,
     "metadata": {},
     "output_type": "execute_result"
    }
   ],
   "source": [
    "val a = (x:String ) => s\"${x}  --->   A <--- \";\n",
    "val b = (x:String) => s\" ${x} ----> B <------\";\n",
    "\n",
    "val res = a andThen b;\n",
    "\n",
    "print(res(\"Anurag\"));"
   ]
  },
  {
   "cell_type": "markdown",
   "metadata": {},
   "source": [
    "### Partial Function"
   ]
  },
  {
   "cell_type": "code",
   "execution_count": null,
   "metadata": {},
   "outputs": [
    {
     "name": "stderr",
     "output_type": "stream",
     "text": [
      "cmd19.sc:13: type mismatch;\n",
      " found   : String => Unit\n",
      " required: Unit => ?\n",
      "val e = c andThen a;\n",
      "                  ^\n",
      "cmd19.sc:14: type mismatch;\n",
      " found   : String => Unit\n",
      " required: Unit => ?\n",
      "val f = d andThen a;\n",
      "                  ^\n",
      "Compilation Failed"
     ]
    }
   ],
   "source": [
    "val a = (res: String) =>{\n",
    "    println(s\"Added the topping is ${res}\");\n",
    "}\n",
    "\n",
    "val b = (x: String, y: String) =>{\n",
    "    println(s\"${y}  -  ${x}\");\n",
    "    y;\n",
    "}\n",
    "\n",
    "val c = b(\"B\",_:String);\n",
    "val d = b(\"BBB\",_:String);\n",
    "\n",
    "val e = c andThen a;\n",
    "val f = d andThen a;\n",
    "e(\"Done\");\n",
    "f(\"BYE\");\n",
    "\n"
   ]
  },
  {
   "cell_type": "code",
   "execution_count": 14,
   "metadata": {},
   "outputs": [
    {
     "name": "stdout",
     "output_type": "stream",
     "text": [
      "Done - B\n",
      "Done - BBB\n",
      "Done\n"
     ]
    },
    {
     "data": {
      "text/plain": [
       "\u001b[36ma\u001b[39m: \u001b[32mString\u001b[39m => \u001b[32mUnit\u001b[39m = ammonite.$sess.cmd14$Helper$$Lambda/0x0000007001911ca8@52438f23\n",
       "\u001b[36mb\u001b[39m: (\u001b[32mString\u001b[39m, \u001b[32mString\u001b[39m) => \u001b[32mString\u001b[39m = ammonite.$sess.cmd14$Helper$$Lambda/0x0000007001912060@351b83b3\n",
       "\u001b[36mc\u001b[39m: \u001b[32mString\u001b[39m => \u001b[32mString\u001b[39m = ammonite.$sess.cmd14$Helper$$Lambda/0x00000070019125f8@72326cec\n",
       "\u001b[36md\u001b[39m: \u001b[32mString\u001b[39m => \u001b[32mString\u001b[39m = ammonite.$sess.cmd14$Helper$$Lambda/0x00000070019129b8@2559a3f2\n",
       "\u001b[36me\u001b[39m: \u001b[32mString\u001b[39m => \u001b[32mString\u001b[39m = ammonite.$sess.cmd14$Helper$$Lambda/0x0000007001912d78@4e97cd4b\n",
       "\u001b[36mresult\u001b[39m: \u001b[32mString\u001b[39m = \u001b[32m\"Done\"\u001b[39m"
      ]
     },
     "execution_count": 14,
     "metadata": {},
     "output_type": "execute_result"
    }
   ],
   "source": [
    "val a = (res: String) => {\n",
    "    println(s\"Added the topping is ${res}\")\n",
    "}\n",
    "\n",
    "val b = (x: String, y: String) => {\n",
    "    println(s\"${y} - ${x}\")\n",
    "    y\n",
    "}\n",
    "\n",
    "val c = b(\"B\", _: String)\n",
    "val d = b(\"BBB\", _: String)\n",
    "\n",
    "val e = (input: String) => {\n",
    "    val firstResult = c(input)\n",
    "    d(firstResult) \n",
    "}\n",
    "\n",
    "val result = e(\"Done\")\n",
    "\n",
    "println(result)\n"
   ]
  },
  {
   "cell_type": "code",
   "execution_count": 20,
   "metadata": {},
   "outputs": [
    {
     "name": "stdout",
     "output_type": "stream",
     "text": [
      "Added the topping is Done - B\n",
      "Added the topping is Done - BBB\n"
     ]
    },
    {
     "data": {
      "text/plain": [
       "\u001b[36ma\u001b[39m: \u001b[32mString\u001b[39m => \u001b[32mString\u001b[39m = ammonite.$sess.cmd20$Helper$$Lambda/0x0000007001951bb8@223a7062\n",
       "\u001b[36mb\u001b[39m: (\u001b[32mString\u001b[39m, \u001b[32mString\u001b[39m) => \u001b[32mString\u001b[39m = ammonite.$sess.cmd20$Helper$$Lambda/0x0000007001951f70@7a5298b5\n",
       "\u001b[36mc\u001b[39m: \u001b[32mString\u001b[39m => \u001b[32mString\u001b[39m = ammonite.$sess.cmd20$Helper$$Lambda/0x0000007001952508@1232e654\n",
       "\u001b[36md\u001b[39m: \u001b[32mString\u001b[39m => \u001b[32mString\u001b[39m = ammonite.$sess.cmd20$Helper$$Lambda/0x00000070019528c8@748b18c3\n",
       "\u001b[36me\u001b[39m: \u001b[32mString\u001b[39m => \u001b[32mString\u001b[39m = scala.Function1$$Lambda/0x000000700194e468@435fd0c9\n",
       "\u001b[36mf\u001b[39m: \u001b[32mString\u001b[39m => \u001b[32mString\u001b[39m = scala.Function1$$Lambda/0x000000700194e468@60a3628d"
      ]
     },
     "execution_count": 20,
     "metadata": {},
     "output_type": "execute_result"
    }
   ],
   "source": [
    "val a = (res: String) => {\n",
    "    s\"Added the topping is ${res}\";\n",
    "}\n",
    "\n",
    "val b = (x: String, y: String)=> {\n",
    "    s\"${y} - ${x}\";\n",
    "}\n",
    "\n",
    "val c = b(\"B\", _: String)\n",
    "val d = b(\"BBB\", _: String)\n",
    "\n",
    "val e = c compose a;\n",
    "val f = d compose a;\n",
    "println(e(\"Done\"))\n",
    "println(f(\"Done\"))\n"
   ]
  },
  {
   "cell_type": "code",
   "execution_count": 23,
   "metadata": {},
   "outputs": [
    {
     "name": "stdout",
     "output_type": "stream",
     "text": [
      "Hello - Added the topping is PIZZA\n"
     ]
    },
    {
     "data": {
      "text/plain": [
       "\u001b[36ma\u001b[39m: \u001b[32mString\u001b[39m => (\u001b[32mString\u001b[39m, \u001b[32mString\u001b[39m) = ammonite.$sess.cmd23$Helper$$Lambda/0x00000070019586c8@77eea2fc\n",
       "\u001b[36mb\u001b[39m: (\u001b[32mString\u001b[39m, \u001b[32mString\u001b[39m) => \u001b[32mString\u001b[39m = ammonite.$sess.cmd23$Helper$$Lambda/0x0000007001958a80@71e37e4f\n",
       "\u001b[36mc\u001b[39m: \u001b[32mString\u001b[39m => \u001b[32mString\u001b[39m = scala.Function1$$Lambda/0x00000070017e2d18@3ad57838"
      ]
     },
     "execution_count": 23,
     "metadata": {},
     "output_type": "execute_result"
    }
   ],
   "source": [
    "val a = (res: String) => {\n",
    "(s\"Added the topping is ${res}\", \"Hello\");\n",
    "}\n",
    "\n",
    "val b = (x: String, y: String)=> {\n",
    "    s\"${y} - ${x}\";\n",
    "}\n",
    "val c = a andThen b.tupled;\n",
    "println(c(\"PIZZA\"))\n",
    "\n"
   ]
  }
 ],
 "metadata": {
  "kernelspec": {
   "display_name": "Scala",
   "language": "scala",
   "name": "scala"
  },
  "language_info": {
   "codemirror_mode": "text/x-scala",
   "file_extension": ".sc",
   "mimetype": "text/x-scala",
   "name": "scala",
   "nbconvert_exporter": "script",
   "version": "2.13.14"
  }
 },
 "nbformat": 4,
 "nbformat_minor": 2
}
