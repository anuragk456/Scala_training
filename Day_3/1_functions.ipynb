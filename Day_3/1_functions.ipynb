{
 "cells": [
  {
   "cell_type": "code",
   "execution_count": 5,
   "metadata": {},
   "outputs": [
    {
     "name": "stdout",
     "output_type": "stream",
     "text": [
      "3600\n"
     ]
    }
   ],
   "source": [
    "def exp():(Int) => Int = (x) => x*x;\n",
    "println(exp()(60));\n"
   ]
  },
  {
   "cell_type": "code",
   "execution_count": 6,
   "metadata": {},
   "outputs": [
    {
     "name": "stdout",
     "output_type": "stream",
     "text": [
      "175616\n"
     ]
    },
    {
     "data": {
      "text/plain": [
       "defined \u001b[32mfunction\u001b[39m \u001b[36mtemp\u001b[39m\n",
       "defined \u001b[32mfunction\u001b[39m \u001b[36mhelper\u001b[39m"
      ]
     },
     "execution_count": 6,
     "metadata": {},
     "output_type": "execute_result"
    }
   ],
   "source": [
    "def temp(x:Int) ={\n",
    "    x*x*x;\n",
    "}\n",
    "\n",
    "def helper(): (Int) => Int = temp;\n",
    "\n",
    "println(helper()(56));"
   ]
  },
  {
   "cell_type": "code",
   "execution_count": 8,
   "metadata": {},
   "outputs": [
    {
     "name": "stdout",
     "output_type": "stream",
     "text": [
      "200\n"
     ]
    },
    {
     "data": {
      "text/plain": [
       "defined \u001b[32mfunction\u001b[39m \u001b[36mtemp\u001b[39m"
      ]
     },
     "execution_count": 8,
     "metadata": {},
     "output_type": "execute_result"
    }
   ],
   "source": [
    "def temp(x:Int, y:Int) ={\n",
    "    x*y;\n",
    "}\n",
    "def helper(): (Int) => (Int) => Int = (x:Int) => (y:Int) => temp(x,y);\n",
    "println(helper()(10)(20));"
   ]
  },
  {
   "cell_type": "code",
   "execution_count": 9,
   "metadata": {},
   "outputs": [
    {
     "name": "stdout",
     "output_type": "stream",
     "text": [
      "Hello Hiii\n",
      "Number: 5\n",
      "Hello bye\n",
      "()\n"
     ]
    },
    {
     "data": {
      "text/plain": [
       "defined \u001b[32mfunction\u001b[39m \u001b[36mtest\u001b[39m\n",
       "defined \u001b[32mfunction\u001b[39m \u001b[36mhelper\u001b[39m"
      ]
     },
     "execution_count": 9,
     "metadata": {},
     "output_type": "execute_result"
    }
   ],
   "source": [
    "def test(x: String): Unit = {\n",
    "    println(s\"Hello $x\")\n",
    "}\n",
    "\n",
    "def helper(): String => Int => String => Unit = (str: String) => (num: Int) => (anotherStr: String) => {\n",
    "        test(str);\n",
    "        println(s\"Number: $num\")\n",
    "        test(anotherStr)\n",
    "    }\n",
    "\n",
    "println(helper()(\"Hiii\")(5)(\"bye\"));\n"
   ]
  },
  {
   "cell_type": "code",
   "execution_count": 10,
   "metadata": {},
   "outputs": [
    {
     "name": "stdout",
     "output_type": "stream",
     "text": [
      "250\n"
     ]
    },
    {
     "data": {
      "text/plain": [
       "defined \u001b[32mfunction\u001b[39m \u001b[36mprocess\u001b[39m\n",
       "defined \u001b[32mfunction\u001b[39m \u001b[36mprocessTest\u001b[39m"
      ]
     },
     "execution_count": 10,
     "metadata": {},
     "output_type": "execute_result"
    }
   ],
   "source": [
    "def process(x:Int): Int = x+200;\n",
    "\n",
    "def processTest(x:Int) : Int = process(x);\n",
    "\n",
    "println(processTest(50));"
   ]
  },
  {
   "cell_type": "code",
   "execution_count": 12,
   "metadata": {},
   "outputs": [
    {
     "name": "stdout",
     "output_type": "stream",
     "text": [
      "2500\n"
     ]
    },
    {
     "data": {
      "text/plain": [
       "defined \u001b[32mfunction\u001b[39m \u001b[36mprocess\u001b[39m"
      ]
     },
     "execution_count": 12,
     "metadata": {},
     "output_type": "execute_result"
    }
   ],
   "source": [
    "def process(x:Int): Int = x+200;\n",
    "\n",
    "def processTest(x:Int) : Int => Int = (y: Int) => process(x)*y;\n",
    "\n",
    "println(processTest(50)(10));"
   ]
  },
  {
   "cell_type": "code",
   "execution_count": 14,
   "metadata": {},
   "outputs": [
    {
     "name": "stdout",
     "output_type": "stream",
     "text": [
      "7\n"
     ]
    },
    {
     "data": {
      "text/plain": [
       "defined \u001b[32mfunction\u001b[39m \u001b[36mcalcu\u001b[39m"
      ]
     },
     "execution_count": 14,
     "metadata": {},
     "output_type": "execute_result"
    }
   ],
   "source": [
    "def calcu(str: String): (Int, Int) => Int ={\n",
    "    str match{\n",
    "        case \"add\" => (a,b) => a+b;\n",
    "        case \"mult\" => (a,b) => a*b;\n",
    "        case \"sub\" => (a,b) => a-b;\n",
    "        case _ => (a,b) => -1;\n",
    "    }\n",
    "}\n",
    "\n",
    "println(calcu(\"add\")(3,4))"
   ]
  },
  {
   "cell_type": "code",
   "execution_count": 15,
   "metadata": {},
   "outputs": [
    {
     "name": "stdout",
     "output_type": "stream",
     "text": [
      "FiveABC\n"
     ]
    },
    {
     "data": {
      "text/plain": [
       "defined \u001b[32mfunction\u001b[39m \u001b[36mcalcu\u001b[39m"
      ]
     },
     "execution_count": 15,
     "metadata": {},
     "output_type": "execute_result"
    }
   ],
   "source": [
    "def calcu(str: Int): (String) => String = {\n",
    "    str match {\n",
    "        case 1 => (a) => \"One\"+a;\n",
    "        case 2 => (a) => \"Two\"+a;\n",
    "        case 3 => (a) => \"Three\"+a;\n",
    "        case 4 => (a) => \"Four\"+a;\n",
    "        case 5 => (a) => \"Five\"+a;\n",
    "        case 6 => (a) => \"Six\"+a;\n",
    "        case 7 => (a) => \"Seven\"+a;\n",
    "        case 8 => (a) => \"Eight\"+a;\n",
    "        case 9 => (a) => \"Nine\"+a;\n",
    "        case _ => (a) => \"Default\"+a;\n",
    "    }\n",
    "}\n",
    "\n",
    "println(calcu(5)(\"ABC\"))"
   ]
  }
 ],
 "metadata": {
  "kernelspec": {
   "display_name": "Scala",
   "language": "scala",
   "name": "scala"
  },
  "language_info": {
   "codemirror_mode": "text/x-scala",
   "file_extension": ".sc",
   "mimetype": "text/x-scala",
   "name": "scala",
   "nbconvert_exporter": "script",
   "version": "2.13.14"
  }
 },
 "nbformat": 4,
 "nbformat_minor": 2
}
