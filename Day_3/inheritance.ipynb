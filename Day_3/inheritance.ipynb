{
 "cells": [
  {
   "cell_type": "markdown",
   "metadata": {},
   "source": [
    "### Inheritance in Scala"
   ]
  },
  {
   "cell_type": "code",
   "execution_count": 1,
   "metadata": {},
   "outputs": [
    {
     "name": "stdout",
     "output_type": "stream",
     "text": [
      "BBBBB\n"
     ]
    },
    {
     "data": {
      "text/plain": [
       "defined \u001b[32mclass\u001b[39m \u001b[36mABC\u001b[39m\n",
       "defined \u001b[32mclass\u001b[39m \u001b[36mB\u001b[39m\n",
       "\u001b[36mb\u001b[39m: \u001b[32mB\u001b[39m = ammonite.$sess.cmd1$Helper$B@41481815"
      ]
     },
     "execution_count": 1,
     "metadata": {},
     "output_type": "execute_result"
    }
   ],
   "source": [
    "class ABC {\n",
    "  def a(): String = \"aaaaa\";\n",
    "}\n",
    "\n",
    "class B extends ABC {\n",
    "  override def a(): String = \"BBBBB\";\n",
    "}\n",
    "\n",
    "val b = new B();\n",
    "println(b.a())\n"
   ]
  },
  {
   "cell_type": "code",
   "execution_count": 2,
   "metadata": {},
   "outputs": [
    {
     "name": "stdout",
     "output_type": "stream",
     "text": [
      "aaaaa\n"
     ]
    },
    {
     "data": {
      "text/plain": [
       "defined \u001b[32mclass\u001b[39m \u001b[36mABC\u001b[39m\n",
       "defined \u001b[32mclass\u001b[39m \u001b[36mB\u001b[39m\n",
       "\u001b[36mb\u001b[39m: \u001b[32mB\u001b[39m = ammonite.$sess.cmd2$Helper$B@3aee089"
      ]
     },
     "execution_count": 2,
     "metadata": {},
     "output_type": "execute_result"
    }
   ],
   "source": [
    "class ABC {\n",
    "  def a(): String = \"aaaaa\";\n",
    "}\n",
    "\n",
    "class B extends ABC {\n",
    "//   override def a(): String = \"BBBBB\";\n",
    "}\n",
    "\n",
    "val b = new B();\n",
    "println(b.a())\n"
   ]
  },
  {
   "cell_type": "code",
   "execution_count": 4,
   "metadata": {},
   "outputs": [
    {
     "name": "stdout",
     "output_type": "stream",
     "text": [
      "Hiii, my name is Anuarg_kurmi\n",
      "Anuarg_kurmi (ID: 12345)\n"
     ]
    },
    {
     "data": {
      "text/plain": [
       "defined \u001b[32mclass\u001b[39m \u001b[36mPerson\u001b[39m\n",
       "defined \u001b[32mclass\u001b[39m \u001b[36mStudent\u001b[39m\n",
       "\u001b[36mstudent\u001b[39m: \u001b[32mStudent\u001b[39m = ammonite.$sess.cmd4$Helper$Student@422c70"
      ]
     },
     "execution_count": 4,
     "metadata": {},
     "output_type": "execute_result"
    }
   ],
   "source": [
    "class Person(val n: String) {\n",
    "  def abc(): String = s\"Hiii, my name is $n\"\n",
    "}\n",
    "\n",
    "class Student(n: String, val studentId: Int) extends Person(n) {\n",
    "  def aaa(): String = s\"$n (ID: $studentId)\";\n",
    "}\n",
    "\n",
    "val student = new Student(\"Anuarg_kurmi\", 12345)\n",
    "println(student.abc());\n",
    "println(student.aaa());\n"
   ]
  },
  {
   "cell_type": "code",
   "execution_count": 6,
   "metadata": {},
   "outputs": [
    {
     "name": "stdout",
     "output_type": "stream",
     "text": [
      "in the class student : Anuarg_kurmi\n",
      "Anuarg_kurmi (ID: 12345)\n"
     ]
    },
    {
     "data": {
      "text/plain": [
       "defined \u001b[32mclass\u001b[39m \u001b[36mPerson\u001b[39m\n",
       "defined \u001b[32mclass\u001b[39m \u001b[36mStudent\u001b[39m\n",
       "\u001b[36mstudent\u001b[39m: \u001b[32mStudent\u001b[39m = ammonite.$sess.cmd6$Helper$Student@75eccf74"
      ]
     },
     "execution_count": 6,
     "metadata": {},
     "output_type": "execute_result"
    }
   ],
   "source": [
    "class Person(val n: String) {\n",
    "  def abc(): String = s\"Hiii, my name is $n\"\n",
    "}\n",
    "\n",
    "class Student(n: String, val studentId: Int) extends Person(n) {\n",
    "  def aaa(): String = s\"$n (ID: $studentId)\";\n",
    "  override def abc(): String = s\"in the class student : $n\"\n",
    "}\n",
    "\n",
    "val student = new Student(\"Anuarg_kurmi\", 12345)\n",
    "println(student.abc());\n",
    "println(student.aaa());\n"
   ]
  },
  {
   "cell_type": "code",
   "execution_count": 7,
   "metadata": {},
   "outputs": [
    {
     "name": "stdout",
     "output_type": "stream",
     "text": [
      "15.0\n"
     ]
    },
    {
     "data": {
      "text/plain": [
       "defined \u001b[32mclass\u001b[39m \u001b[36mShape\u001b[39m\n",
       "defined \u001b[32mclass\u001b[39m \u001b[36mRectangle\u001b[39m\n",
       "\u001b[36mrectangle\u001b[39m: \u001b[32mRectangle\u001b[39m = ammonite.$sess.cmd7$Helper$Rectangle@41ab8f98"
      ]
     },
     "execution_count": 7,
     "metadata": {},
     "output_type": "execute_result"
    }
   ],
   "source": [
    "class Shape {\n",
    "  def area(): Double = 0.0\n",
    "}\n",
    "\n",
    "class Rectangle(val width: Double, val height: Double) extends Shape {\n",
    "  override def area(): Double = width * height\n",
    "}\n",
    "\n",
    "val rectangle = new Rectangle(5, 3)\n",
    "println(rectangle.area())\n"
   ]
  },
  {
   "cell_type": "code",
   "execution_count": 8,
   "metadata": {},
   "outputs": [
    {
     "name": "stdout",
     "output_type": "stream",
     "text": [
      "Car is starting. Vehicle started\n"
     ]
    },
    {
     "data": {
      "text/plain": [
       "defined \u001b[32mclass\u001b[39m \u001b[36mVehicle\u001b[39m\n",
       "defined \u001b[32mclass\u001b[39m \u001b[36mCar\u001b[39m\n",
       "\u001b[36mcar\u001b[39m: \u001b[32mCar\u001b[39m = ammonite.$sess.cmd8$Helper$Car@10c986d3"
      ]
     },
     "execution_count": 8,
     "metadata": {},
     "output_type": "execute_result"
    }
   ],
   "source": [
    "class Vehicle {\n",
    "  def start(): String = \"Vehicle started\"\n",
    "}\n",
    "\n",
    "class Car extends Vehicle {\n",
    "  override def start(): String = {\n",
    "    s\"Car is starting. ${super.start()}\"\n",
    "  }\n",
    "}\n",
    "\n",
    "val car = new Car()\n",
    "println(car.start())\n"
   ]
  }
 ],
 "metadata": {
  "kernelspec": {
   "display_name": "Scala",
   "language": "scala",
   "name": "scala"
  },
  "language_info": {
   "codemirror_mode": "text/x-scala",
   "file_extension": ".sc",
   "mimetype": "text/x-scala",
   "name": "scala",
   "nbconvert_exporter": "script",
   "version": "2.13.14"
  }
 },
 "nbformat": 4,
 "nbformat_minor": 2
}
