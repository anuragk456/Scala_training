{
 "cells": [
  {
   "cell_type": "markdown",
   "metadata": {},
   "source": [
    "### CallBacks Functions"
   ]
  },
  {
   "cell_type": "code",
   "execution_count": 4,
   "metadata": {},
   "outputs": [
    {
     "name": "stdout",
     "output_type": "stream",
     "text": [
      "hii this is in callback\n",
      "hello 1\n",
      "bye bye\n",
      "hii this is in callback\n",
      "hello 2\n",
      "bye bye\n",
      "hii this is in callback\n",
      "hello 3\n",
      "bye bye\n",
      "hii this is in callback\n",
      "hello 4\n",
      "bye bye\n",
      "hii this is in callback\n",
      "hello 5\n",
      "bye bye\n"
     ]
    },
    {
     "data": {
      "text/plain": [
       "defined \u001b[32mfunction\u001b[39m \u001b[36mcallmeback\u001b[39m\n",
       "defined \u001b[32mfunction\u001b[39m \u001b[36mgetTheData\u001b[39m"
      ]
     },
     "execution_count": 4,
     "metadata": {},
     "output_type": "execute_result"
    }
   ],
   "source": [
    "def callmeback(time: Int , method :(String)=>Unit) = {\n",
    "    for(x<-1 to time){\n",
    "        println(\"hii this is in callback\");\n",
    "        method(\"hello \"+x);\n",
    "        println(\"bye bye\");\n",
    "    }\n",
    "}\n",
    "\n",
    "def getTheData(data: String):Unit = {\n",
    "    println(data);\n",
    "};\n",
    "callmeback(5, getTheData);"
   ]
  },
  {
   "cell_type": "code",
   "execution_count": 5,
   "metadata": {},
   "outputs": [
    {
     "name": "stdout",
     "output_type": "stream",
     "text": [
      "hii this is in callback\n",
      "hello 1\n",
      "bye bye\n",
      "hii this is in callback\n",
      "hello 2\n",
      "bye bye\n",
      "hii this is in callback\n",
      "hello 3\n",
      "bye bye\n",
      "hii this is in callback\n",
      "hello 4\n",
      "bye bye\n",
      "hii this is in callback\n",
      "hello 5\n",
      "bye bye\n"
     ]
    },
    {
     "data": {
      "text/plain": [
       "defined \u001b[32mfunction\u001b[39m \u001b[36mcallmeback\u001b[39m\n",
       "defined \u001b[32mfunction\u001b[39m \u001b[36mgetTheData\u001b[39m"
      ]
     },
     "execution_count": 5,
     "metadata": {},
     "output_type": "execute_result"
    }
   ],
   "source": [
    "def callmeback(time: Int , method :(String)=>Unit) = {\n",
    "    for(x<-1 to time){\n",
    "        println(\"hii this is in callback\");\n",
    "        method(\"hello \"+x);\n",
    "        println(\"bye bye\");\n",
    "    }\n",
    "}\n",
    "\n",
    "def getTheData(data: String) = println(data);\n",
    "callmeback(5, getTheData);"
   ]
  },
  {
   "cell_type": "code",
   "execution_count": 6,
   "metadata": {},
   "outputs": [
    {
     "name": "stdout",
     "output_type": "stream",
     "text": [
      "hii this is in callback\n",
      "hello 1\n",
      "bye bye\n",
      "hii this is in callback\n",
      "hello 2\n",
      "bye bye\n",
      "hii this is in callback\n",
      "hello 3\n",
      "bye bye\n",
      "hii this is in callback\n",
      "hello 4\n",
      "bye bye\n",
      "hii this is in callback\n",
      "hello 5\n",
      "bye bye\n"
     ]
    },
    {
     "data": {
      "text/plain": [
       "defined \u001b[32mfunction\u001b[39m \u001b[36mcallmeback\u001b[39m"
      ]
     },
     "execution_count": 6,
     "metadata": {},
     "output_type": "execute_result"
    }
   ],
   "source": [
    "def callmeback(time: Int , method :(String)=>Unit) = {\n",
    "    for(x<-1 to time){\n",
    "        println(\"hii this is in callback\");\n",
    "        method(\"hello \"+x);\n",
    "        println(\"bye bye\");\n",
    "    }\n",
    "}\n",
    "\n",
    "\n",
    "callmeback(5, (data: String) => println(data));"
   ]
  }
 ],
 "metadata": {
  "kernelspec": {
   "display_name": "Scala",
   "language": "scala",
   "name": "scala"
  },
  "language_info": {
   "codemirror_mode": "text/x-scala",
   "file_extension": ".sc",
   "mimetype": "text/x-scala",
   "name": "scala",
   "nbconvert_exporter": "script",
   "version": "2.13.14"
  }
 },
 "nbformat": 4,
 "nbformat_minor": 2
}
