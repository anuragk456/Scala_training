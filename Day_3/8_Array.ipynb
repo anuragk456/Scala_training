{
 "cells": [
  {
   "cell_type": "markdown",
   "metadata": {},
   "source": [
    "### Arrays Callbacks"
   ]
  },
  {
   "cell_type": "code",
   "execution_count": 10,
   "metadata": {},
   "outputs": [
    {
     "name": "stdout",
     "output_type": "stream",
     "text": [
      "2\n",
      "4\n",
      "6\n",
      "8\n"
     ]
    },
    {
     "data": {
      "text/plain": [
       "defined \u001b[32mfunction\u001b[39m \u001b[36mfilterItOut\u001b[39m\n",
       "\u001b[36marr\u001b[39m: \u001b[32mArray\u001b[39m[\u001b[32mInt\u001b[39m] = \u001b[33mArray\u001b[39m(\u001b[32m1\u001b[39m, \u001b[32m2\u001b[39m, \u001b[32m3\u001b[39m, \u001b[32m4\u001b[39m, \u001b[32m5\u001b[39m, \u001b[32m6\u001b[39m, \u001b[32m7\u001b[39m, \u001b[32m8\u001b[39m, \u001b[32m9\u001b[39m)\n",
       "defined \u001b[32mfunction\u001b[39m \u001b[36mlogic\u001b[39m\n",
       "\u001b[36mres\u001b[39m: \u001b[32mArray\u001b[39m[\u001b[32mInt\u001b[39m] = \u001b[33mArray\u001b[39m(\u001b[32m2\u001b[39m, \u001b[32m4\u001b[39m, \u001b[32m6\u001b[39m, \u001b[32m8\u001b[39m)"
      ]
     },
     "execution_count": 10,
     "metadata": {},
     "output_type": "execute_result"
    }
   ],
   "source": [
    "def filterItOut(elements: Array[Int], logic: Int => Boolean) : Array[Int] = {\n",
    "    var count = 0;\n",
    "    var a = 0;\n",
    "    for(i<-elements){\n",
    "        if(logic(i)){\n",
    "            count+=1;\n",
    "        }\n",
    "    }\n",
    "\n",
    "    val arr: Array[Int] = Array.fill(count)(0);\n",
    "    for(x<-elements){\n",
    "        // println(x);\n",
    "        if(logic(x)){\n",
    "            arr(a)=x;\n",
    "            a+=1;\n",
    "        }\n",
    "    }\n",
    "    return arr;\n",
    "}\n",
    "\n",
    "val arr = Array(1, 2, 3, 4, 5, 6, 7, 8, 9)\n",
    "\n",
    "def logic(x: Int): Boolean = {\n",
    "    x % 2 == 0;\n",
    "}\n",
    "\n",
    "val res = filterItOut(arr, logic)\n",
    "\n",
    "for (i <- res) {\n",
    "    println(i)\n",
    "}"
   ]
  },
  {
   "cell_type": "code",
   "execution_count": 11,
   "metadata": {},
   "outputs": [
    {
     "name": "stdout",
     "output_type": "stream",
     "text": [
      "2\n",
      "4\n",
      "6\n",
      "8\n"
     ]
    },
    {
     "data": {
      "text/plain": [
       "defined \u001b[32mfunction\u001b[39m \u001b[36mfilterItOut\u001b[39m\n",
       "\u001b[36marr\u001b[39m: \u001b[32mArray\u001b[39m[\u001b[32mInt\u001b[39m] = \u001b[33mArray\u001b[39m(\u001b[32m1\u001b[39m, \u001b[32m2\u001b[39m, \u001b[32m3\u001b[39m, \u001b[32m4\u001b[39m, \u001b[32m5\u001b[39m, \u001b[32m6\u001b[39m, \u001b[32m7\u001b[39m, \u001b[32m8\u001b[39m, \u001b[32m9\u001b[39m)\n",
       "defined \u001b[32mfunction\u001b[39m \u001b[36mlogic\u001b[39m\n",
       "\u001b[36mres\u001b[39m: \u001b[32mArray\u001b[39m[\u001b[32mInt\u001b[39m] = \u001b[33mArray\u001b[39m(\u001b[32m2\u001b[39m, \u001b[32m4\u001b[39m, \u001b[32m6\u001b[39m, \u001b[32m8\u001b[39m)"
      ]
     },
     "execution_count": 11,
     "metadata": {},
     "output_type": "execute_result"
    }
   ],
   "source": [
    "def filterItOut(elements: Array[Int], logic: Int => Boolean) : Array[Int] = {\n",
    "    var count = 0;\n",
    "    var a = 0;\n",
    "    for(i<-elements){\n",
    "        if(logic(i)){\n",
    "            count+=1;\n",
    "        }\n",
    "    }\n",
    "\n",
    "    val arr: Array[Int] = Array.fill(count)(0);\n",
    "    for(x<-elements){\n",
    "        // println(x);\n",
    "        if(logic(x)){\n",
    "            arr(a)=x;\n",
    "            a+=1;\n",
    "        }\n",
    "    }\n",
    "    return arr;\n",
    "}\n",
    "\n",
    "val arr = Array(1, 2, 3, 4, 5, 6, 7, 8, 9)\n",
    "\n",
    "def logic(x: Int): Boolean = {\n",
    "    x % 2 == 0;\n",
    "}\n",
    "\n",
    "val res = filterItOut(arr, (x)=>{x%2==0})\n",
    "\n",
    "for (i <- res) {\n",
    "    println(i)\n",
    "}"
   ]
  }
 ],
 "metadata": {
  "kernelspec": {
   "display_name": "Scala",
   "language": "scala",
   "name": "scala"
  },
  "language_info": {
   "codemirror_mode": "text/x-scala",
   "file_extension": ".sc",
   "mimetype": "text/x-scala",
   "name": "scala",
   "nbconvert_exporter": "script",
   "version": "2.13.14"
  }
 },
 "nbformat": 4,
 "nbformat_minor": 2
}
