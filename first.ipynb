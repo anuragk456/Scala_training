{
 "cells": [
  {
   "cell_type": "markdown",
   "metadata": {},
   "source": [
    "#### First Program with scala"
   ]
  },
  {
   "cell_type": "code",
   "execution_count": 1,
   "metadata": {},
   "outputs": [
    {
     "name": "stdout",
     "output_type": "stream",
     "text": [
      "Hello world"
     ]
    }
   ],
   "source": [
    "print(\"Hello world\")"
   ]
  },
  {
   "cell_type": "markdown",
   "metadata": {},
   "source": [
    "#### String immutablity "
   ]
  },
  {
   "cell_type": "code",
   "execution_count": 5,
   "metadata": {},
   "outputs": [
    {
     "name": "stdout",
     "output_type": "stream",
     "text": [
      "Anurag kurmi"
     ]
    },
    {
     "data": {
      "text/plain": [
       "\u001b[36mabc\u001b[39m: \u001b[32mString\u001b[39m = \u001b[32m\"Anurag kurmi\"\u001b[39m"
      ]
     },
     "execution_count": 5,
     "metadata": {},
     "output_type": "execute_result"
    }
   ],
   "source": [
    "val abc:String = \"Anurag kurmi\"\n",
    "print(abc);\n",
    "// abc = \"Anmol kurmi\"\n",
    "\n",
    "// var abc:String = \"Anurag kurmi\"\n",
    "// print(abc);\n",
    "// abc = \"Anmol kurmi\""
   ]
  },
  {
   "cell_type": "markdown",
   "metadata": {},
   "source": [
    "#### All the dataype is immutable in Scala "
   ]
  },
  {
   "cell_type": "code",
   "execution_count": 7,
   "metadata": {},
   "outputs": [
    {
     "name": "stderr",
     "output_type": "stream",
     "text": [
      "cmd7.sc:3: reassignment to val\n",
      "val res7_2 = x=6;\n",
      "              ^\n",
      "Compilation Failed"
     ]
    }
   ],
   "source": [
    "val x : Integer = 3;\n",
    "print(x);\n",
    "x=6;"
   ]
  }
 ],
 "metadata": {
  "kernelspec": {
   "display_name": "Scala",
   "language": "scala",
   "name": "scala"
  },
  "language_info": {
   "codemirror_mode": "text/x-scala",
   "file_extension": ".sc",
   "mimetype": "text/x-scala",
   "name": "scala",
   "nbconvert_exporter": "script",
   "version": "2.13.14"
  }
 },
 "nbformat": 4,
 "nbformat_minor": 2
}
