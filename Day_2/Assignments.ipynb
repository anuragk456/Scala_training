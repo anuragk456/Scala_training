{
 "cells": [
  {
   "cell_type": "markdown",
   "metadata": {},
   "source": [
    "### Arrays Tasks:\n",
    "\n",
    "* Implement a function that takes Arrays as parameters and does the following activites on the Original Array\n",
    "\n",
    "* 1)                    Bubble sort\n",
    "* 2)                    Insertion sort\n",
    "* 3)                    Quick sort\n",
    "* 4)                    Heap sort\n",
    "* 5)                    Selection sort"
   ]
  }
 ],
 "metadata": {
  "language_info": {
   "name": "python"
  }
 },
 "nbformat": 4,
 "nbformat_minor": 2
}
