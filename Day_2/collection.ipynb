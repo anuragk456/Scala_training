{
 "cells": [
  {
   "cell_type": "markdown",
   "metadata": {},
   "source": [
    "### Collections in Scala\n",
    "* \tScala Lists : Scala's List[T] is a linked list of type T.\n",
    "*   Scala Sets : A set is a collection of pairwise different elements of the same type.\n",
    "*   Scala Maps : A Map is a collection of key/value pairs. Any value can be retrieved based on its key.\n",
    "*   Scala tuples : Unlike an array or list, a tuple can hold objects with different types.\n",
    "*   Scala Options : Option[T] provides a container for zero or one element of a given type."
   ]
  },
  {
   "cell_type": "markdown",
   "metadata": {},
   "source": [
    "##### Scala Lists"
   ]
  },
  {
   "cell_type": "code",
   "execution_count": 8,
   "metadata": {},
   "outputs": [
    {
     "name": "stdout",
     "output_type": "stream",
     "text": [
      "ABC\n",
      "DEF\n",
      "JHI\n",
      "1\n",
      "2\n",
      "3\n",
      "4\n",
      "5\n",
      "1 2 3 \n",
      "4 5 6 \n",
      "7 8 9 \n"
     ]
    },
    {
     "data": {
      "text/plain": [
       "\u001b[36mstr\u001b[39m: \u001b[32mList\u001b[39m[\u001b[32mString\u001b[39m] = \u001b[33mList\u001b[39m(\u001b[32m\"ABC\"\u001b[39m, \u001b[32m\"DEF\"\u001b[39m, \u001b[32m\"JHI\"\u001b[39m)\n",
       "\u001b[36mnum\u001b[39m: \u001b[32mList\u001b[39m[\u001b[32mInt\u001b[39m] = \u001b[33mList\u001b[39m(\u001b[32m1\u001b[39m, \u001b[32m2\u001b[39m, \u001b[32m3\u001b[39m, \u001b[32m4\u001b[39m, \u001b[32m5\u001b[39m)\n",
       "\u001b[36mz\u001b[39m: \u001b[32mList\u001b[39m[\u001b[32mNothing\u001b[39m] = \u001b[33mList\u001b[39m()\n",
       "\u001b[36marr\u001b[39m: \u001b[32mList\u001b[39m[\u001b[32mList\u001b[39m[\u001b[32mInt\u001b[39m]] = \u001b[33mList\u001b[39m(\u001b[33mList\u001b[39m(\u001b[32m1\u001b[39m, \u001b[32m2\u001b[39m, \u001b[32m3\u001b[39m), \u001b[33mList\u001b[39m(\u001b[32m4\u001b[39m, \u001b[32m5\u001b[39m, \u001b[32m6\u001b[39m), \u001b[33mList\u001b[39m(\u001b[32m7\u001b[39m, \u001b[32m8\u001b[39m, \u001b[32m9\u001b[39m))"
      ]
     },
     "execution_count": 8,
     "metadata": {},
     "output_type": "execute_result"
    }
   ],
   "source": [
    "val str : List[String] = List(\"ABC\",\"DEF\",\"JHI\");\n",
    "for(x<-str){\n",
    "    println(x);\n",
    "}\n",
    "\n",
    "val num : List[Int] = List(1,2,3,4,5);\n",
    "for(x<-num){\n",
    "    println(x);\n",
    "}\n",
    "\n",
    "val z : List[Nothing] = List()\n",
    "for(x<-z){\n",
    "    println(x);\n",
    "}\n",
    "\n",
    "\n",
    "val arr: List[List[Int]] = List(List(1, 2, 3), List(4, 5, 6), List(7, 8, 9))\n",
    "\n",
    "for (x <- arr) {\n",
    "  for (y <- x) {\n",
    "    print(s\"$y \")\n",
    "  }\n",
    "  println()\n",
    "}\n"
   ]
  },
  {
   "cell_type": "code",
   "execution_count": 2,
   "metadata": {},
   "outputs": [
    {
     "name": "stdout",
     "output_type": "stream",
     "text": [
      "apples\n",
      "oranges\n",
      "pears\n",
      "1\n",
      "2\n",
      "3\n",
      "4\n",
      "List()\n",
      "1 0 0 \n",
      "0 1 0 \n",
      "0 0 1 \n"
     ]
    },
    {
     "data": {
      "text/plain": [
       "\u001b[36mfruit\u001b[39m: \u001b[32mList\u001b[39m[\u001b[32mString\u001b[39m] = \u001b[33mList\u001b[39m(\u001b[32m\"apples\"\u001b[39m, \u001b[32m\"oranges\"\u001b[39m, \u001b[32m\"pears\"\u001b[39m)\n",
       "\u001b[36mnums\u001b[39m: \u001b[32mList\u001b[39m[\u001b[32mInt\u001b[39m] = \u001b[33mList\u001b[39m(\u001b[32m1\u001b[39m, \u001b[32m2\u001b[39m, \u001b[32m3\u001b[39m, \u001b[32m4\u001b[39m)\n",
       "\u001b[36mempty\u001b[39m: \u001b[32mNil\u001b[39m.type = \u001b[33mList\u001b[39m()\n",
       "\u001b[36mdim\u001b[39m: \u001b[32mList\u001b[39m[\u001b[32mList\u001b[39m[\u001b[32mInt\u001b[39m]] = \u001b[33mList\u001b[39m(\u001b[33mList\u001b[39m(\u001b[32m1\u001b[39m, \u001b[32m0\u001b[39m, \u001b[32m0\u001b[39m), \u001b[33mList\u001b[39m(\u001b[32m0\u001b[39m, \u001b[32m1\u001b[39m, \u001b[32m0\u001b[39m), \u001b[33mList\u001b[39m(\u001b[32m0\u001b[39m, \u001b[32m0\u001b[39m, \u001b[32m1\u001b[39m))"
      ]
     },
     "execution_count": 2,
     "metadata": {},
     "output_type": "execute_result"
    }
   ],
   "source": [
    "// by NIL\n",
    "val fruit = \"apples\" :: (\"oranges\" :: (\"pears\" :: Nil))\n",
    "\n",
    "for(x<- fruit){\n",
    "    println(x);\n",
    "}\n",
    "\n",
    "val nums = 1 :: (2 :: (3 :: (4 :: Nil)))\n",
    "for(x<- nums){\n",
    "    println(x);\n",
    "}\n",
    "\n",
    "val empty = Nil;\n",
    "println(empty);\n",
    "\n",
    "val dim = (1 :: (0 :: (0 :: Nil))) ::\n",
    "          (0 :: (1 :: (0 :: Nil))) ::\n",
    "          (0 :: (0 :: (1 :: Nil))) :: Nil\n",
    "\n",
    "for (x <- dim) {\n",
    "  for (y <- x) {\n",
    "    print(s\"$y \")\n",
    "  }\n",
    "  println()\n",
    "}"
   ]
  },
  {
   "cell_type": "code",
   "execution_count": 1,
   "metadata": {},
   "outputs": [
    {
     "name": "stdout",
     "output_type": "stream",
     "text": [
      "Head of fruit : apples\n",
      "Tail of fruit : List(oranges, pears)\n",
      "Check if fruit is empty : false\n",
      "Check if nums is empty : true\n"
     ]
    },
    {
     "data": {
      "text/plain": [
       "\u001b[36mfruit\u001b[39m: \u001b[32mList\u001b[39m[\u001b[32mString\u001b[39m] = \u001b[33mList\u001b[39m(\u001b[32m\"apples\"\u001b[39m, \u001b[32m\"oranges\"\u001b[39m, \u001b[32m\"pears\"\u001b[39m)\n",
       "\u001b[36mnums\u001b[39m: \u001b[32mNil\u001b[39m.type = \u001b[33mList\u001b[39m()"
      ]
     },
     "execution_count": 1,
     "metadata": {},
     "output_type": "execute_result"
    }
   ],
   "source": [
    "val fruit = \"apples\" :: (\"oranges\" :: (\"pears\" :: Nil))\n",
    "val nums = Nil\n",
    "\n",
    "println( \"Head of fruit : \" + fruit.head )\n",
    "println( \"Tail of fruit : \" + fruit.tail )\n",
    "println( \"Check if fruit is empty : \" + fruit.isEmpty )\n",
    "println( \"Check if nums is empty : \" + nums.isEmpty )"
   ]
  },
  {
   "cell_type": "code",
   "execution_count": 2,
   "metadata": {},
   "outputs": [
    {
     "name": "stdout",
     "output_type": "stream",
     "text": [
      "Res : List(ABC, ABC, ABC)\n",
      "num : List(2, 2, 2, 2, 2, 2, 2, 2, 2, 2)\n"
     ]
    },
    {
     "data": {
      "text/plain": [
       "\u001b[36marr\u001b[39m: \u001b[32mList\u001b[39m[\u001b[32mString\u001b[39m] = \u001b[33mList\u001b[39m(\u001b[32m\"ABC\"\u001b[39m, \u001b[32m\"ABC\"\u001b[39m, \u001b[32m\"ABC\"\u001b[39m)\n",
       "\u001b[36mnum\u001b[39m: \u001b[32mList\u001b[39m[\u001b[32mInt\u001b[39m] = \u001b[33mList\u001b[39m(\u001b[32m2\u001b[39m, \u001b[32m2\u001b[39m, \u001b[32m2\u001b[39m, \u001b[32m2\u001b[39m, \u001b[32m2\u001b[39m, \u001b[32m2\u001b[39m, \u001b[32m2\u001b[39m, \u001b[32m2\u001b[39m, \u001b[32m2\u001b[39m, \u001b[32m2\u001b[39m)"
      ]
     },
     "execution_count": 2,
     "metadata": {},
     "output_type": "execute_result"
    }
   ],
   "source": [
    "val arr = List.fill(3)(\"ABC\")\n",
    "println( \"Res : \" + arr);\n",
    "\n",
    "val num = List.fill(10)(2)\n",
    "println( \"num : \" + num  )"
   ]
  },
  {
   "cell_type": "code",
   "execution_count": 3,
   "metadata": {},
   "outputs": [
    {
     "name": "stdout",
     "output_type": "stream",
     "text": [
      "List(5, 4, 3, 2, 1)\n"
     ]
    },
    {
     "data": {
      "text/plain": [
       "\u001b[36mnum\u001b[39m: \u001b[32mList\u001b[39m[\u001b[32mInt\u001b[39m] = \u001b[33mList\u001b[39m(\u001b[32m1\u001b[39m, \u001b[32m2\u001b[39m, \u001b[32m3\u001b[39m, \u001b[32m4\u001b[39m, \u001b[32m5\u001b[39m)"
      ]
     },
     "execution_count": 3,
     "metadata": {},
     "output_type": "execute_result"
    }
   ],
   "source": [
    "val num : List[Int] = List(1,2,3,4,5);\n",
    "println(num.reverse);"
   ]
  },
  {
   "cell_type": "markdown",
   "metadata": {},
   "source": [
    "### Scala Sets\n",
    "\n",
    "```\n",
    "// Empty set of integer type\n",
    "var s : Set[Int] = Set()\n",
    "\n",
    "// Set of integer type\n",
    "var s : Set[Int] = Set(1,3,5,7)\n",
    "\n",
    "or \n",
    "\n",
    "var s = Set(1,3,5,7)\n",
    "```"
   ]
  },
  {
   "cell_type": "code",
   "execution_count": 4,
   "metadata": {},
   "outputs": [
    {
     "name": "stdout",
     "output_type": "stream",
     "text": [
      "ABC\n",
      "DEF\n",
      "GHI\n"
     ]
    },
    {
     "data": {
      "text/plain": [
       "\u001b[36marr\u001b[39m: \u001b[32mSet\u001b[39m[\u001b[32mString\u001b[39m] = \u001b[33mSet\u001b[39m(\u001b[32m\"ABC\"\u001b[39m, \u001b[32m\"DEF\"\u001b[39m, \u001b[32m\"GHI\"\u001b[39m)"
      ]
     },
     "execution_count": 4,
     "metadata": {},
     "output_type": "execute_result"
    }
   ],
   "source": [
    "val arr = Set(\"ABC\", \"DEF\", \"GHI\")\n",
    "for(x<-arr){\n",
    "    println(x);\n",
    "}"
   ]
  },
  {
   "cell_type": "code",
   "execution_count": 6,
   "metadata": {},
   "outputs": [
    {
     "name": "stdout",
     "output_type": "stream",
     "text": [
      "ABC\n",
      "DEF\n",
      "GHI\n"
     ]
    },
    {
     "data": {
      "text/plain": [
       "\u001b[36marr\u001b[39m: \u001b[32mSet\u001b[39m[\u001b[32mString\u001b[39m] = \u001b[33mSet\u001b[39m(\u001b[32m\"ABC\"\u001b[39m, \u001b[32m\"DEF\"\u001b[39m, \u001b[32m\"GHI\"\u001b[39m)"
      ]
     },
     "execution_count": 6,
     "metadata": {},
     "output_type": "execute_result"
    }
   ],
   "source": [
    "val arr = Set(\"ABC\", \"DEF\", \"GHI\", \"ABC\", \"DEF\", \"GHI\")\n",
    "for(x<-arr){\n",
    "    println(x);\n",
    "}"
   ]
  },
  {
   "cell_type": "code",
   "execution_count": 7,
   "metadata": {},
   "outputs": [
    {
     "name": "stdout",
     "output_type": "stream",
     "text": [
      "Min : 5\n",
      "Max : 45\n"
     ]
    },
    {
     "data": {
      "text/plain": [
       "\u001b[36mnum\u001b[39m: \u001b[32mSet\u001b[39m[\u001b[32mInt\u001b[39m] = \u001b[33mHashSet\u001b[39m(\u001b[32m5\u001b[39m, \u001b[32m20\u001b[39m, \u001b[32m6\u001b[39m, \u001b[32m9\u001b[39m, \u001b[32m45\u001b[39m, \u001b[32m30\u001b[39m)"
      ]
     },
     "execution_count": 7,
     "metadata": {},
     "output_type": "execute_result"
    }
   ],
   "source": [
    "val num = Set(5,6,9,20,30,45)\n",
    "println( \"Min : \" + num.min )\n",
    "println( \"Max : \" + num.max )"
   ]
  },
  {
   "cell_type": "code",
   "execution_count": 9,
   "metadata": {},
   "outputs": [
    {
     "name": "stdout",
     "output_type": "stream",
     "text": [
      "HashSet(20, 9)\n",
      "HashSet(20, 9)\n"
     ]
    },
    {
     "data": {
      "text/plain": [
       "\u001b[36mnum1\u001b[39m: \u001b[32mSet\u001b[39m[\u001b[32mInt\u001b[39m] = \u001b[33mHashSet\u001b[39m(\u001b[32m5\u001b[39m, \u001b[32m20\u001b[39m, \u001b[32m6\u001b[39m, \u001b[32m9\u001b[39m, \u001b[32m45\u001b[39m, \u001b[32m30\u001b[39m)\n",
       "\u001b[36mnum2\u001b[39m: \u001b[32mSet\u001b[39m[\u001b[32mInt\u001b[39m] = \u001b[33mHashSet\u001b[39m(\u001b[32m20\u001b[39m, \u001b[32m60\u001b[39m, \u001b[32m9\u001b[39m, \u001b[32m35\u001b[39m, \u001b[32m50\u001b[39m, \u001b[32m55\u001b[39m)"
      ]
     },
     "execution_count": 9,
     "metadata": {},
     "output_type": "execute_result"
    }
   ],
   "source": [
    "val num1 = Set(5,6,9,20,30,45)\n",
    "val num2 = Set(50,60,9,20,35,55);\n",
    "\n",
    "      \n",
    "println(num1.&(num2));\n",
    "println(num1.intersect(num2));"
   ]
  },
  {
   "cell_type": "markdown",
   "metadata": {},
   "source": [
    "### Scala Maps\n",
    "\n",
    "```\n",
    "Empty hash table whose keys are strings and values are integers:\n",
    "var A:Map[Char,Int] = Map()\n",
    "\n",
    "A map with keys and values.\n",
    "val colors = Map(\"red\" -> \"#FF0000\", \"azure\" -> \"#F0FFFF\")\n",
    "```"
   ]
  },
  {
   "cell_type": "code",
   "execution_count": 11,
   "metadata": {},
   "outputs": [
    {
     "name": "stdout",
     "output_type": "stream",
     "text": [
      "(E,5)\n",
      "(A,1)\n",
      "(B,2)\n",
      "(C,3)\n",
      "(D,4)\n"
     ]
    },
    {
     "data": {
      "text/plain": [
       "\u001b[36mmap\u001b[39m: \u001b[32mMap\u001b[39m[\u001b[32mChar\u001b[39m, \u001b[32mInt\u001b[39m] = \u001b[33mHashMap\u001b[39m(\u001b[32m'E'\u001b[39m -> \u001b[32m5\u001b[39m, \u001b[32m'A'\u001b[39m -> \u001b[32m1\u001b[39m, \u001b[32m'B'\u001b[39m -> \u001b[32m2\u001b[39m, \u001b[32m'C'\u001b[39m -> \u001b[32m3\u001b[39m, \u001b[32m'D'\u001b[39m -> \u001b[32m4\u001b[39m)"
      ]
     },
     "execution_count": 11,
     "metadata": {},
     "output_type": "execute_result"
    }
   ],
   "source": [
    "val map: Map[Char, Int] = Map('A'->1, 'B'->2, 'C'->3, 'D'->4, 'E'->5);\n",
    "for(x<-map){\n",
    "    println(x);\n",
    "}"
   ]
  },
  {
   "cell_type": "code",
   "execution_count": 13,
   "metadata": {},
   "outputs": [
    {
     "name": "stdout",
     "output_type": "stream",
     "text": [
      "Key = E Value = 5\n",
      "Key = A Value = 1\n",
      "Key = B Value = 2\n",
      "Key = C Value = 3\n",
      "Key = D Value = 4\n"
     ]
    },
    {
     "data": {
      "text/plain": [
       "\u001b[36mmap\u001b[39m: \u001b[32mMap\u001b[39m[\u001b[32mChar\u001b[39m, \u001b[32mInt\u001b[39m] = \u001b[33mHashMap\u001b[39m(\u001b[32m'E'\u001b[39m -> \u001b[32m5\u001b[39m, \u001b[32m'A'\u001b[39m -> \u001b[32m1\u001b[39m, \u001b[32m'B'\u001b[39m -> \u001b[32m2\u001b[39m, \u001b[32m'C'\u001b[39m -> \u001b[32m3\u001b[39m, \u001b[32m'D'\u001b[39m -> \u001b[32m4\u001b[39m)"
      ]
     },
     "execution_count": 13,
     "metadata": {},
     "output_type": "execute_result"
    }
   ],
   "source": [
    "val map: Map[Char, Int] = Map('A'->1, 'B'->2, 'C'->3, 'D'->4, 'E'->5);\n",
    "\n",
    "map.keys.foreach{ i => \n",
    "    print( \"Key = \" + i ); \n",
    "    println(\" Value = \" + map(i) );\n",
    "}\n",
    "   "
   ]
  },
  {
   "cell_type": "code",
   "execution_count": 14,
   "metadata": {},
   "outputs": [
    {
     "name": "stdout",
     "output_type": "stream",
     "text": [
      "Key = red Value = #FF0000\n",
      "Key = azure Value = #F0FFFF\n",
      "Key = peru Value = #CD853F\n"
     ]
    },
    {
     "data": {
      "text/plain": [
       "\u001b[36mcolors\u001b[39m: \u001b[32mMap\u001b[39m[\u001b[32mString\u001b[39m, \u001b[32mString\u001b[39m] = \u001b[33mMap\u001b[39m(\n",
       "  \u001b[32m\"red\"\u001b[39m -> \u001b[32m\"#FF0000\"\u001b[39m,\n",
       "  \u001b[32m\"azure\"\u001b[39m -> \u001b[32m\"#F0FFFF\"\u001b[39m,\n",
       "  \u001b[32m\"peru\"\u001b[39m -> \u001b[32m\"#CD853F\"\u001b[39m\n",
       ")"
      ]
     },
     "execution_count": 14,
     "metadata": {},
     "output_type": "execute_result"
    }
   ],
   "source": [
    "val colors = Map(\"red\" -> \"#FF0000\", \"azure\" -> \"#F0FFFF\",\"peru\" -> \"#CD853F\")\n",
    "\n",
    "colors.keys.foreach{ i =>  \n",
    "         print( \"Key = \" + i )\n",
    "         println(\" Value = \" + colors(i) )\n",
    "}"
   ]
  },
  {
   "cell_type": "markdown",
   "metadata": {},
   "source": [
    "### Scala tuples"
   ]
  },
  {
   "cell_type": "code",
   "execution_count": 15,
   "metadata": {},
   "outputs": [
    {
     "name": "stdout",
     "output_type": "stream",
     "text": [
      "Sum of elements: 10\n"
     ]
    },
    {
     "data": {
      "text/plain": [
       "\u001b[36mt\u001b[39m: (\u001b[32mInt\u001b[39m, \u001b[32mInt\u001b[39m, \u001b[32mInt\u001b[39m, \u001b[32mInt\u001b[39m) = (\u001b[32m4\u001b[39m, \u001b[32m3\u001b[39m, \u001b[32m2\u001b[39m, \u001b[32m1\u001b[39m)\n",
       "\u001b[36msum\u001b[39m: \u001b[32mInt\u001b[39m = \u001b[32m10\u001b[39m"
      ]
     },
     "execution_count": 15,
     "metadata": {},
     "output_type": "execute_result"
    }
   ],
   "source": [
    "val t = (4,3,2,1)\n",
    "val sum = t._4 + t._1 + t._2 + t._3;\n",
    "\n",
    "println( \"Sum of elements: \"  + sum )"
   ]
  },
  {
   "cell_type": "code",
   "execution_count": 17,
   "metadata": {},
   "outputs": [
    {
     "name": "stdout",
     "output_type": "stream",
     "text": [
      "4\n",
      "3\n",
      "2\n",
      "1\n"
     ]
    },
    {
     "data": {
      "text/plain": [
       "\u001b[36mt\u001b[39m: (\u001b[32mInt\u001b[39m, \u001b[32mInt\u001b[39m, \u001b[32mInt\u001b[39m, \u001b[32mInt\u001b[39m) = (\u001b[32m4\u001b[39m, \u001b[32m3\u001b[39m, \u001b[32m2\u001b[39m, \u001b[32m1\u001b[39m)"
      ]
     },
     "execution_count": 17,
     "metadata": {},
     "output_type": "execute_result"
    }
   ],
   "source": [
    "val t = (4,3,2,1)\n",
    "\n",
    "t.productIterator.foreach{ i =>println(i )}"
   ]
  },
  {
   "cell_type": "code",
   "execution_count": 20,
   "metadata": {},
   "outputs": [
    {
     "name": "stdout",
     "output_type": "stream",
     "text": [
      "(1,hello,scala.Console$@6a8e556f)\n"
     ]
    },
    {
     "data": {
      "text/plain": [
       "\u001b[36mt\u001b[39m: (\u001b[32mInt\u001b[39m, \u001b[32mString\u001b[39m, \u001b[32mConsole\u001b[39m.type) = (\u001b[32m1\u001b[39m, \u001b[32m\"hello\"\u001b[39m, scala.Console$@6a8e556f)"
      ]
     },
     "execution_count": 20,
     "metadata": {},
     "output_type": "execute_result"
    }
   ],
   "source": [
    "val t = new Tuple3(1, \"hello\", Console);\n",
    "      \n",
    "println(t.toString());"
   ]
  },
  {
   "cell_type": "code",
   "execution_count": 22,
   "metadata": {},
   "outputs": [
    {
     "name": "stdout",
     "output_type": "stream",
     "text": [
      "(Scala,hello)\n",
      "(hello,Scala)\n"
     ]
    },
    {
     "data": {
      "text/plain": [
       "\u001b[36mt\u001b[39m: (\u001b[32mString\u001b[39m, \u001b[32mString\u001b[39m) = (\u001b[32m\"Scala\"\u001b[39m, \u001b[32m\"hello\"\u001b[39m)"
      ]
     },
     "execution_count": 22,
     "metadata": {},
     "output_type": "execute_result"
    }
   ],
   "source": [
    "val t = new Tuple2(\"Scala\", \"hello\")\n",
    "println(t)\n",
    "println(t.swap)"
   ]
  }
 ],
 "metadata": {
  "kernelspec": {
   "display_name": "Scala",
   "language": "scala",
   "name": "scala"
  },
  "language_info": {
   "codemirror_mode": "text/x-scala",
   "file_extension": ".sc",
   "mimetype": "text/x-scala",
   "name": "scala",
   "nbconvert_exporter": "script",
   "version": "2.13.14"
  }
 },
 "nbformat": 4,
 "nbformat_minor": 2
}
