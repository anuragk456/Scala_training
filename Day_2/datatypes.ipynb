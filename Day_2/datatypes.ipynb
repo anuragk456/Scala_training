{
 "cells": [
  {
   "cell_type": "markdown",
   "metadata": {},
   "source": [
    "##  3. Data Types in Scala "
   ]
  },
  {
   "cell_type": "markdown",
   "metadata": {},
   "source": [
    "```\n",
    "DataType\t   Default value\t                 \n",
    "\n",
    "Boolean\t       False\t                         \n",
    "Byte\t        0\t                            \n",
    "Short\t        0\t                            \n",
    "Char\t      ‘\\u000’\t                        \n",
    "Int\t            0\t                            \n",
    "Long\t        0L\t                            \n",
    "Float\t        0.0F\t                       \n",
    "Double\t        0.0D\t                       \n",
    "String\t        null\t                       \n",
    "Unit\t        \t                           \n",
    "Nothing\t        \t                           \n",
    "Any\t            \t                           \n",
    "AnyVal\t        \t                           \n",
    "AnyRef\t        \t                           \n",
    "\n",
    "```"
   ]
  },
  {
   "cell_type": "code",
   "execution_count": 1,
   "metadata": {},
   "outputs": [
    {
     "name": "stdout",
     "output_type": "stream",
     "text": [
      "boolean : True \n",
      "byte : 126\n",
      "float : 2.45673\n",
      "integer : 3\n",
      "short : 45\n",
      "double : 2.93846523\n",
      "char : A\n",
      "(long : ,3)\n",
      "(String : ,Hey this side Anurag kurmi)\n"
     ]
    },
    {
     "data": {
      "text/plain": [
       "\u001b[36ma\u001b[39m: \u001b[32mBoolean\u001b[39m = \u001b[32mtrue\u001b[39m\n",
       "\u001b[36mb\u001b[39m: \u001b[32mByte\u001b[39m = \u001b[32m126\u001b[39m\n",
       "\u001b[36mc\u001b[39m: \u001b[32mShort\u001b[39m = \u001b[32m45\u001b[39m\n",
       "\u001b[36md\u001b[39m: \u001b[32mChar\u001b[39m = \u001b[32m'A'\u001b[39m\n",
       "\u001b[36me\u001b[39m: \u001b[32mInt\u001b[39m = \u001b[32m3\u001b[39m\n",
       "\u001b[36mf\u001b[39m: \u001b[32mLong\u001b[39m = \u001b[32m3L\u001b[39m\n",
       "\u001b[36mg\u001b[39m: \u001b[32mFloat\u001b[39m = \u001b[32m2.45673F\u001b[39m\n",
       "\u001b[36mh\u001b[39m: \u001b[32mDouble\u001b[39m = \u001b[32m2.93846523\u001b[39m\n",
       "\u001b[36mi\u001b[39m: \u001b[32mString\u001b[39m = \u001b[32m\"Hey this side Anurag kurmi\"\u001b[39m"
      ]
     },
     "execution_count": 1,
     "metadata": {},
     "output_type": "execute_result"
    }
   ],
   "source": [
    "\n",
    "val a: Boolean = true\n",
    "val b: Byte = 126\n",
    "val c: Short = 45\n",
    "val d: Char = 'A'\n",
    "val e: Int = 3\n",
    "val f: Long = 3L\n",
    "val g: Float = 2.45673f\n",
    "val h: Double = 2.93846523\n",
    "val i: String = \"Hey this side Anurag kurmi\"\n",
    "\n",
    "if (a == true){\n",
    "    println(\"boolean : True \")\n",
    "}\n",
    "\n",
    "println(\"byte : \" + b)\n",
    "println(\"float : \" + g)\n",
    "println(\"integer : \" + e)\n",
    "println(\"short : \" + c)\n",
    "println(\"double : \" + h)\n",
    "println(\"char : \" + d)\n",
    "println(\"long : \", f);\n",
    "println(\"String : \", i);"
   ]
  }
 ],
 "metadata": {
  "kernelspec": {
   "display_name": "Scala",
   "language": "scala",
   "name": "scala"
  },
  "language_info": {
   "codemirror_mode": "text/x-scala",
   "file_extension": ".sc",
   "mimetype": "text/x-scala",
   "name": "scala",
   "nbconvert_exporter": "script",
   "version": "2.13.14"
  }
 },
 "nbformat": 4,
 "nbformat_minor": 2
}
